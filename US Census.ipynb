{
 "cells": [
  {
   "cell_type": "code",
   "execution_count": 172,
   "metadata": {},
   "outputs": [],
   "source": [
    "import pandas as pd\n",
    "import numpy as np\n",
    "import matplotlib as plt\n",
    "%matplotlib inline\n",
    "import seaborn as sns\n",
    "import sklearn\n",
    "\n",
    "url = 'D:\\\\zoom\\Python\\\\input\\\\adult.csv'"
   ]
  },
  {
   "cell_type": "markdown",
   "metadata": {},
   "source": [
    "Data Pre Processing"
   ]
  },
  {
   "cell_type": "code",
   "execution_count": 173,
   "metadata": {},
   "outputs": [],
   "source": [
    "df = pd.read_csv(url,na_values=['#NAME?'])"
   ]
  },
  {
   "cell_type": "code",
   "execution_count": 174,
   "metadata": {},
   "outputs": [
    {
     "data": {
      "text/html": [
       "<div>\n",
       "<style scoped>\n",
       "    .dataframe tbody tr th:only-of-type {\n",
       "        vertical-align: middle;\n",
       "    }\n",
       "\n",
       "    .dataframe tbody tr th {\n",
       "        vertical-align: top;\n",
       "    }\n",
       "\n",
       "    .dataframe thead th {\n",
       "        text-align: right;\n",
       "    }\n",
       "</style>\n",
       "<table border=\"1\" class=\"dataframe\">\n",
       "  <thead>\n",
       "    <tr style=\"text-align: right;\">\n",
       "      <th></th>\n",
       "      <th>age</th>\n",
       "      <th>workclass</th>\n",
       "      <th>fnlwgt</th>\n",
       "      <th>education</th>\n",
       "      <th>education_num</th>\n",
       "      <th>marital_status</th>\n",
       "      <th>occupation</th>\n",
       "      <th>relationship</th>\n",
       "      <th>race</th>\n",
       "      <th>sex</th>\n",
       "      <th>capital_gain</th>\n",
       "      <th>capital_loss</th>\n",
       "      <th>hours_per_week</th>\n",
       "      <th>native_country</th>\n",
       "      <th>income</th>\n",
       "    </tr>\n",
       "  </thead>\n",
       "  <tbody>\n",
       "    <tr>\n",
       "      <th>0</th>\n",
       "      <td>39.0</td>\n",
       "      <td>State-gov</td>\n",
       "      <td>77516.0</td>\n",
       "      <td>Bachelors</td>\n",
       "      <td>13.0</td>\n",
       "      <td>Never-married</td>\n",
       "      <td>Adm-clerical</td>\n",
       "      <td>Not-in-family</td>\n",
       "      <td>White</td>\n",
       "      <td>Male</td>\n",
       "      <td>2174</td>\n",
       "      <td>0</td>\n",
       "      <td>40</td>\n",
       "      <td>United-States</td>\n",
       "      <td>&lt;=50K</td>\n",
       "    </tr>\n",
       "    <tr>\n",
       "      <th>1</th>\n",
       "      <td>50.0</td>\n",
       "      <td>Self-emp-not-inc</td>\n",
       "      <td>83311.0</td>\n",
       "      <td>Bachelors</td>\n",
       "      <td>13.0</td>\n",
       "      <td>Married-civ-spouse</td>\n",
       "      <td>Exec-managerial</td>\n",
       "      <td>Husband</td>\n",
       "      <td>White</td>\n",
       "      <td>Male</td>\n",
       "      <td>0</td>\n",
       "      <td>0</td>\n",
       "      <td>13</td>\n",
       "      <td>United-States</td>\n",
       "      <td>&lt;=50K</td>\n",
       "    </tr>\n",
       "    <tr>\n",
       "      <th>2</th>\n",
       "      <td>38.0</td>\n",
       "      <td>Private</td>\n",
       "      <td>215646.0</td>\n",
       "      <td>HS-grad</td>\n",
       "      <td>9.0</td>\n",
       "      <td>Divorced</td>\n",
       "      <td>Handlers-cleaners</td>\n",
       "      <td>Not-in-family</td>\n",
       "      <td>White</td>\n",
       "      <td>Male</td>\n",
       "      <td>0</td>\n",
       "      <td>0</td>\n",
       "      <td>40</td>\n",
       "      <td>United-States</td>\n",
       "      <td>&lt;=50K</td>\n",
       "    </tr>\n",
       "    <tr>\n",
       "      <th>3</th>\n",
       "      <td>53.0</td>\n",
       "      <td>Private</td>\n",
       "      <td>234721.0</td>\n",
       "      <td>11th</td>\n",
       "      <td>7.0</td>\n",
       "      <td>Married-civ-spouse</td>\n",
       "      <td>Handlers-cleaners</td>\n",
       "      <td>Husband</td>\n",
       "      <td>Black</td>\n",
       "      <td>NaN</td>\n",
       "      <td>0</td>\n",
       "      <td>0</td>\n",
       "      <td>40</td>\n",
       "      <td>United-States</td>\n",
       "      <td>&lt;=50K</td>\n",
       "    </tr>\n",
       "    <tr>\n",
       "      <th>4</th>\n",
       "      <td>28.0</td>\n",
       "      <td>Private</td>\n",
       "      <td>338409.0</td>\n",
       "      <td>Bachelors</td>\n",
       "      <td>13.0</td>\n",
       "      <td>Married-civ-spouse</td>\n",
       "      <td>Prof-specialty</td>\n",
       "      <td>Wife</td>\n",
       "      <td>Black</td>\n",
       "      <td>Female</td>\n",
       "      <td>0</td>\n",
       "      <td>0</td>\n",
       "      <td>40</td>\n",
       "      <td>Cuba</td>\n",
       "      <td>&lt;=50K</td>\n",
       "    </tr>\n",
       "  </tbody>\n",
       "</table>\n",
       "</div>"
      ],
      "text/plain": [
       "    age         workclass    fnlwgt  education  education_num  \\\n",
       "0  39.0         State-gov   77516.0  Bachelors           13.0   \n",
       "1  50.0  Self-emp-not-inc   83311.0  Bachelors           13.0   \n",
       "2  38.0           Private  215646.0    HS-grad            9.0   \n",
       "3  53.0           Private  234721.0       11th            7.0   \n",
       "4  28.0           Private  338409.0  Bachelors           13.0   \n",
       "\n",
       "       marital_status         occupation   relationship   race     sex  \\\n",
       "0       Never-married       Adm-clerical  Not-in-family  White    Male   \n",
       "1  Married-civ-spouse    Exec-managerial        Husband  White    Male   \n",
       "2            Divorced  Handlers-cleaners  Not-in-family  White    Male   \n",
       "3  Married-civ-spouse  Handlers-cleaners        Husband  Black     NaN   \n",
       "4  Married-civ-spouse     Prof-specialty           Wife  Black  Female   \n",
       "\n",
       "   capital_gain  capital_loss  hours_per_week native_country income  \n",
       "0          2174             0              40  United-States  <=50K  \n",
       "1             0             0              13  United-States  <=50K  \n",
       "2             0             0              40  United-States  <=50K  \n",
       "3             0             0              40  United-States  <=50K  \n",
       "4             0             0              40           Cuba  <=50K  "
      ]
     },
     "execution_count": 174,
     "metadata": {},
     "output_type": "execute_result"
    }
   ],
   "source": [
    "df.head()"
   ]
  },
  {
   "cell_type": "code",
   "execution_count": 175,
   "metadata": {},
   "outputs": [
    {
     "name": "stdout",
     "output_type": "stream",
     "text": [
      "<class 'pandas.core.frame.DataFrame'>\n",
      "RangeIndex: 5000 entries, 0 to 4999\n",
      "Data columns (total 15 columns):\n",
      " #   Column          Non-Null Count  Dtype  \n",
      "---  ------          --------------  -----  \n",
      " 0   age             4952 non-null   float64\n",
      " 1   workclass       5000 non-null   object \n",
      " 2   fnlwgt          4893 non-null   float64\n",
      " 3   education       5000 non-null   object \n",
      " 4   education_num   4943 non-null   float64\n",
      " 5   marital_status  5000 non-null   object \n",
      " 6   occupation      5000 non-null   object \n",
      " 7   relationship    5000 non-null   object \n",
      " 8   race            4736 non-null   object \n",
      " 9   sex             4953 non-null   object \n",
      " 10  capital_gain    5000 non-null   int64  \n",
      " 11  capital_loss    5000 non-null   int64  \n",
      " 12  hours_per_week  5000 non-null   int64  \n",
      " 13  native_country  5000 non-null   object \n",
      " 14  income          5000 non-null   object \n",
      "dtypes: float64(3), int64(3), object(9)\n",
      "memory usage: 586.1+ KB\n"
     ]
    }
   ],
   "source": [
    "df.info()"
   ]
  },
  {
   "cell_type": "markdown",
   "metadata": {},
   "source": [
    "Age"
   ]
  },
  {
   "cell_type": "code",
   "execution_count": 176,
   "metadata": {},
   "outputs": [
    {
     "data": {
      "text/plain": [
       "array([39., 50., 38., 53., 28., 37., 49., 52., 31., 42., 30., 23., 32.,\n",
       "       40., 34., nan, 43., 54., 35., 59., 56., 19., 20., 45., 22., 48.,\n",
       "       21., 24., 25., 57., 44., 41., 29., 18., 47., 46., 36., 79., 27.,\n",
       "       67., 33., 76., 17., 55., 61., 70., 64., 71., 68., 66., 51., 58.,\n",
       "       26., 60., 90., 75., 65., 77., 62., 63., 80., 72., 74., 69., 73.,\n",
       "       81., 78., 88., 82.])"
      ]
     },
     "execution_count": 176,
     "metadata": {},
     "output_type": "execute_result"
    }
   ],
   "source": [
    "df['age'].unique()"
   ]
  },
  {
   "cell_type": "code",
   "execution_count": 177,
   "metadata": {},
   "outputs": [
    {
     "data": {
      "text/plain": [
       "48"
      ]
     },
     "execution_count": 177,
     "metadata": {},
     "output_type": "execute_result"
    }
   ],
   "source": [
    "df['age'].isna().sum()"
   ]
  },
  {
   "cell_type": "code",
   "execution_count": 178,
   "metadata": {},
   "outputs": [
    {
     "data": {
      "text/plain": [
       "count    4952.000000\n",
       "mean       38.586430\n",
       "std        13.582256\n",
       "min        17.000000\n",
       "25%        28.000000\n",
       "50%        37.000000\n",
       "75%        47.000000\n",
       "max        90.000000\n",
       "Name: age, dtype: float64"
      ]
     },
     "execution_count": 178,
     "metadata": {},
     "output_type": "execute_result"
    }
   ],
   "source": [
    "df['age'].describe()"
   ]
  },
  {
   "cell_type": "code",
   "execution_count": 179,
   "metadata": {},
   "outputs": [],
   "source": [
    "df['age'].fillna(df['age'].mean(),inplace=True)"
   ]
  },
  {
   "cell_type": "code",
   "execution_count": 180,
   "metadata": {},
   "outputs": [],
   "source": [
    "df['age'] = df['age'].astype(int)"
   ]
  },
  {
   "cell_type": "markdown",
   "metadata": {},
   "source": [
    "Work Class"
   ]
  },
  {
   "cell_type": "code",
   "execution_count": 181,
   "metadata": {},
   "outputs": [
    {
     "data": {
      "text/plain": [
       "Private             3435\n",
       "Self-emp-not-inc     383\n",
       "?                    331\n",
       "Local-gov            329\n",
       "State-gov            193\n",
       "Self-emp-inc         182\n",
       "Federal-gov          146\n",
       "Without-pay            1\n",
       "Name: workclass, dtype: int64"
      ]
     },
     "execution_count": 181,
     "metadata": {},
     "output_type": "execute_result"
    }
   ],
   "source": [
    "df['workclass'].value_counts()"
   ]
  },
  {
   "cell_type": "code",
   "execution_count": 182,
   "metadata": {},
   "outputs": [],
   "source": [
    "df.loc[df['workclass']=='?','workclass']='Student'"
   ]
  },
  {
   "cell_type": "markdown",
   "metadata": {},
   "source": [
    "Converting all '?' to student work class because when checked on occupation there also same number of '?' and when checked on education majority are from some collage, HS-grad and Bachelors "
   ]
  },
  {
   "cell_type": "code",
   "execution_count": 183,
   "metadata": {},
   "outputs": [],
   "source": [
    "df['workclass'] = df['workclass'].astype('category')"
   ]
  },
  {
   "cell_type": "markdown",
   "metadata": {},
   "source": [
    "Fnlegt"
   ]
  },
  {
   "cell_type": "code",
   "execution_count": 184,
   "metadata": {},
   "outputs": [
    {
     "data": {
      "text/plain": [
       "107"
      ]
     },
     "execution_count": 184,
     "metadata": {},
     "output_type": "execute_result"
    }
   ],
   "source": [
    "df['fnlwgt'].isna().sum()"
   ]
  },
  {
   "cell_type": "code",
   "execution_count": 185,
   "metadata": {},
   "outputs": [],
   "source": [
    "df = df.dropna(subset=['fnlwgt'])"
   ]
  },
  {
   "cell_type": "markdown",
   "metadata": {},
   "source": [
    "Education"
   ]
  },
  {
   "cell_type": "code",
   "execution_count": 186,
   "metadata": {},
   "outputs": [
    {
     "data": {
      "text/plain": [
       "0"
      ]
     },
     "execution_count": 186,
     "metadata": {},
     "output_type": "execute_result"
    }
   ],
   "source": [
    "df['education'].isna().sum()"
   ]
  },
  {
   "cell_type": "code",
   "execution_count": 187,
   "metadata": {},
   "outputs": [
    {
     "data": {
      "text/plain": [
       "array(['Bachelors', 'HS-grad', '11th', 'Masters', '9th', 'Some-college',\n",
       "       'Assoc-acdm', 'Assoc-voc', '7th-8th', 'Doctorate', '?',\n",
       "       'Prof-school', '5th-6th', '10th', '1st-4th', 'Preschool', '12th'],\n",
       "      dtype=object)"
      ]
     },
     "execution_count": 187,
     "metadata": {},
     "output_type": "execute_result"
    }
   ],
   "source": [
    "df['education'].unique()"
   ]
  },
  {
   "cell_type": "code",
   "execution_count": 188,
   "metadata": {},
   "outputs": [
    {
     "data": {
      "text/plain": [
       "HS-grad         1560\n",
       "Some-college    1088\n",
       "Bachelors        810\n",
       "Masters          242\n",
       "Assoc-voc        210\n",
       "11th             196\n",
       "Assoc-acdm       160\n",
       "10th             141\n",
       "7th-8th           94\n",
       "Prof-school       84\n",
       "9th               73\n",
       "?                 57\n",
       "Doctorate         54\n",
       "12th              53\n",
       "5th-6th           42\n",
       "1st-4th           22\n",
       "Preschool          7\n",
       "Name: education, dtype: int64"
      ]
     },
     "execution_count": 188,
     "metadata": {},
     "output_type": "execute_result"
    }
   ],
   "source": [
    "df['education'].value_counts()"
   ]
  },
  {
   "cell_type": "code",
   "execution_count": 189,
   "metadata": {},
   "outputs": [],
   "source": [
    "df.loc[df['education']=='?','education']='unknown'"
   ]
  },
  {
   "cell_type": "code",
   "execution_count": 190,
   "metadata": {},
   "outputs": [],
   "source": [
    "df['education'] = df['education'].astype('category')"
   ]
  },
  {
   "cell_type": "markdown",
   "metadata": {},
   "source": [
    "Education_num"
   ]
  },
  {
   "cell_type": "code",
   "execution_count": 191,
   "metadata": {},
   "outputs": [
    {
     "data": {
      "text/plain": [
       "57"
      ]
     },
     "execution_count": 191,
     "metadata": {},
     "output_type": "execute_result"
    }
   ],
   "source": [
    "df['education_num'].isna().sum()"
   ]
  },
  {
   "cell_type": "code",
   "execution_count": 192,
   "metadata": {},
   "outputs": [],
   "source": [
    "df.dropna(subset=['education_num'],inplace=True)"
   ]
  },
  {
   "cell_type": "code",
   "execution_count": 193,
   "metadata": {},
   "outputs": [
    {
     "data": {
      "text/plain": [
       "9.0     1560\n",
       "10.0    1088\n",
       "13.0     810\n",
       "14.0     242\n",
       "11.0     210\n",
       "7.0      196\n",
       "12.0     160\n",
       "6.0      141\n",
       "4.0       94\n",
       "15.0      84\n",
       "5.0       73\n",
       "16.0      54\n",
       "8.0       53\n",
       "3.0       42\n",
       "2.0       22\n",
       "1.0        7\n",
       "Name: education_num, dtype: int64"
      ]
     },
     "execution_count": 193,
     "metadata": {},
     "output_type": "execute_result"
    }
   ],
   "source": [
    "df['education_num'].value_counts()"
   ]
  },
  {
   "cell_type": "markdown",
   "metadata": {},
   "source": [
    "Marital_status"
   ]
  },
  {
   "cell_type": "code",
   "execution_count": 194,
   "metadata": {},
   "outputs": [
    {
     "data": {
      "text/plain": [
       "0"
      ]
     },
     "execution_count": 194,
     "metadata": {},
     "output_type": "execute_result"
    }
   ],
   "source": [
    "df['marital_status'].isna().sum()"
   ]
  },
  {
   "cell_type": "code",
   "execution_count": 195,
   "metadata": {},
   "outputs": [
    {
     "data": {
      "text/plain": [
       "Married-civ-spouse       2180\n",
       "Never-married            1619\n",
       "Divorced                  658\n",
       "Separated                 156\n",
       "Widowed                   155\n",
       "Married-spouse-absent      63\n",
       "Married-AF-spouse           5\n",
       "Name: marital_status, dtype: int64"
      ]
     },
     "execution_count": 195,
     "metadata": {},
     "output_type": "execute_result"
    }
   ],
   "source": [
    "df['marital_status'].value_counts()"
   ]
  },
  {
   "cell_type": "markdown",
   "metadata": {},
   "source": [
    "Occupation"
   ]
  },
  {
   "cell_type": "code",
   "execution_count": 196,
   "metadata": {},
   "outputs": [
    {
     "data": {
      "text/plain": [
       "0"
      ]
     },
     "execution_count": 196,
     "metadata": {},
     "output_type": "execute_result"
    }
   ],
   "source": [
    "df['occupation'].isna().sum()"
   ]
  },
  {
   "cell_type": "code",
   "execution_count": 197,
   "metadata": {},
   "outputs": [
    {
     "data": {
      "text/plain": [
       "Prof-specialty       600\n",
       "Exec-managerial      599\n",
       "Craft-repair         595\n",
       "Sales                567\n",
       "Adm-clerical         560\n",
       "Other-service        483\n",
       "?                    321\n",
       "Machine-op-inspct    300\n",
       "Transport-moving     243\n",
       "Handlers-cleaners    192\n",
       "Farming-fishing      137\n",
       "Tech-support         135\n",
       "Protective-serv       84\n",
       "Priv-house-serv       18\n",
       "Armed-Forces           2\n",
       "Name: occupation, dtype: int64"
      ]
     },
     "execution_count": 197,
     "metadata": {},
     "output_type": "execute_result"
    }
   ],
   "source": [
    "df['occupation'].value_counts()"
   ]
  },
  {
   "cell_type": "code",
   "execution_count": 198,
   "metadata": {},
   "outputs": [],
   "source": [
    "df.loc[df['occupation'] =='?','occupation']='Student'"
   ]
  },
  {
   "cell_type": "code",
   "execution_count": 199,
   "metadata": {},
   "outputs": [],
   "source": [
    "df['occupation'] = df['occupation'].astype('category')"
   ]
  },
  {
   "cell_type": "markdown",
   "metadata": {},
   "source": [
    "Relationship"
   ]
  },
  {
   "cell_type": "code",
   "execution_count": 200,
   "metadata": {},
   "outputs": [
    {
     "data": {
      "text/plain": [
       "0"
      ]
     },
     "execution_count": 200,
     "metadata": {},
     "output_type": "execute_result"
    }
   ],
   "source": [
    "df['relationship'].isna().sum()"
   ]
  },
  {
   "cell_type": "code",
   "execution_count": 201,
   "metadata": {},
   "outputs": [
    {
     "data": {
      "text/plain": [
       "Husband           1919\n",
       "Not-in-family     1264\n",
       "Own-child          749\n",
       "Unmarried          523\n",
       "Wife               237\n",
       "Other-relative     144\n",
       "Name: relationship, dtype: int64"
      ]
     },
     "execution_count": 201,
     "metadata": {},
     "output_type": "execute_result"
    }
   ],
   "source": [
    "df['relationship'].value_counts()"
   ]
  },
  {
   "cell_type": "markdown",
   "metadata": {},
   "source": [
    "Race"
   ]
  },
  {
   "cell_type": "code",
   "execution_count": 202,
   "metadata": {},
   "outputs": [
    {
     "data": {
      "text/plain": [
       "251"
      ]
     },
     "execution_count": 202,
     "metadata": {},
     "output_type": "execute_result"
    }
   ],
   "source": [
    "df['race'].isna().sum()"
   ]
  },
  {
   "cell_type": "code",
   "execution_count": 203,
   "metadata": {},
   "outputs": [
    {
     "data": {
      "text/plain": [
       "array(['White', 'Black', 'Asian-Pac-Islander', 'Amer-Indian-Eskimo', nan,\n",
       "       'Other'], dtype=object)"
      ]
     },
     "execution_count": 203,
     "metadata": {},
     "output_type": "execute_result"
    }
   ],
   "source": [
    "df['race'].unique()"
   ]
  },
  {
   "cell_type": "code",
   "execution_count": 204,
   "metadata": {},
   "outputs": [
    {
     "data": {
      "text/plain": [
       "White                 3894\n",
       "Black                  475\n",
       "Asian-Pac-Islander     141\n",
       "Amer-Indian-Eskimo      46\n",
       "Other                   29\n",
       "Name: race, dtype: int64"
      ]
     },
     "execution_count": 204,
     "metadata": {},
     "output_type": "execute_result"
    }
   ],
   "source": [
    "df['race'].value_counts()"
   ]
  },
  {
   "cell_type": "code",
   "execution_count": 205,
   "metadata": {},
   "outputs": [],
   "source": [
    "df['race'].fillna('Other',inplace=True)"
   ]
  },
  {
   "cell_type": "markdown",
   "metadata": {},
   "source": [
    "Sex"
   ]
  },
  {
   "cell_type": "code",
   "execution_count": 206,
   "metadata": {},
   "outputs": [
    {
     "data": {
      "text/plain": [
       "47"
      ]
     },
     "execution_count": 206,
     "metadata": {},
     "output_type": "execute_result"
    }
   ],
   "source": [
    "df['sex'].isna().sum()"
   ]
  },
  {
   "cell_type": "code",
   "execution_count": 207,
   "metadata": {},
   "outputs": [
    {
     "data": {
      "text/plain": [
       "array(['Male', nan, 'Female'], dtype=object)"
      ]
     },
     "execution_count": 207,
     "metadata": {},
     "output_type": "execute_result"
    }
   ],
   "source": [
    "df['sex'].unique()"
   ]
  },
  {
   "cell_type": "code",
   "execution_count": 208,
   "metadata": {},
   "outputs": [],
   "source": [
    "df.dropna(subset=['sex'],inplace=True)"
   ]
  },
  {
   "cell_type": "markdown",
   "metadata": {},
   "source": [
    "Capital_gain"
   ]
  },
  {
   "cell_type": "code",
   "execution_count": 209,
   "metadata": {},
   "outputs": [
    {
     "data": {
      "text/plain": [
       "0"
      ]
     },
     "execution_count": 209,
     "metadata": {},
     "output_type": "execute_result"
    }
   ],
   "source": [
    "df['capital_gain'].isna().sum()"
   ]
  },
  {
   "cell_type": "code",
   "execution_count": 210,
   "metadata": {},
   "outputs": [
    {
     "data": {
      "text/plain": [
       "count     4789.000000\n",
       "mean      1060.760702\n",
       "std       7194.824907\n",
       "min          0.000000\n",
       "25%          0.000000\n",
       "50%          0.000000\n",
       "75%          0.000000\n",
       "max      99999.000000\n",
       "Name: capital_gain, dtype: float64"
      ]
     },
     "execution_count": 210,
     "metadata": {},
     "output_type": "execute_result"
    }
   ],
   "source": [
    "df['capital_gain'].describe()"
   ]
  },
  {
   "cell_type": "markdown",
   "metadata": {},
   "source": [
    "Capital_loss"
   ]
  },
  {
   "cell_type": "code",
   "execution_count": 211,
   "metadata": {},
   "outputs": [
    {
     "data": {
      "text/plain": [
       "0"
      ]
     },
     "execution_count": 211,
     "metadata": {},
     "output_type": "execute_result"
    }
   ],
   "source": [
    "df['capital_loss'].isna().sum()"
   ]
  },
  {
   "cell_type": "code",
   "execution_count": 212,
   "metadata": {},
   "outputs": [
    {
     "data": {
      "text/plain": [
       "count    4789.000000\n",
       "mean       92.214241\n",
       "std       407.782383\n",
       "min         0.000000\n",
       "25%         0.000000\n",
       "50%         0.000000\n",
       "75%         0.000000\n",
       "max      2547.000000\n",
       "Name: capital_loss, dtype: float64"
      ]
     },
     "execution_count": 212,
     "metadata": {},
     "output_type": "execute_result"
    }
   ],
   "source": [
    "df['capital_loss'].describe()"
   ]
  },
  {
   "cell_type": "markdown",
   "metadata": {},
   "source": [
    "Hours_per_week"
   ]
  },
  {
   "cell_type": "code",
   "execution_count": 213,
   "metadata": {},
   "outputs": [
    {
     "data": {
      "text/plain": [
       "0"
      ]
     },
     "execution_count": 213,
     "metadata": {},
     "output_type": "execute_result"
    }
   ],
   "source": [
    "df['hours_per_week'].isna().sum()"
   ]
  },
  {
   "cell_type": "code",
   "execution_count": 214,
   "metadata": {},
   "outputs": [
    {
     "data": {
      "text/plain": [
       "array([40, 13, 16, 45, 50, 80, 30, 60, 20, 52, 44, 15, 25, 38, 43, 35, 55,\n",
       "       48, 58, 32, 70,  2, 22, 56, 41, 28, 36, 24, 46, 42, 12, 65,  1, 10,\n",
       "       34, 75, 98, 33, 54,  8,  6, 64, 19, 18, 72,  5,  9, 47, 37, 21, 26,\n",
       "       14,  4, 59,  7, 99, 53, 39, 62, 57, 78, 90, 66, 11, 49, 84,  3, 17,\n",
       "       68, 27, 85, 31, 51, 77], dtype=int64)"
      ]
     },
     "execution_count": 214,
     "metadata": {},
     "output_type": "execute_result"
    }
   ],
   "source": [
    "df['hours_per_week'].unique()"
   ]
  },
  {
   "cell_type": "markdown",
   "metadata": {},
   "source": [
    "Native_country"
   ]
  },
  {
   "cell_type": "code",
   "execution_count": 215,
   "metadata": {},
   "outputs": [
    {
     "data": {
      "text/plain": [
       "array(['United-States', 'Cuba', 'Jamaica', 'India', '?', 'Mexico',\n",
       "       'South', 'Puerto-Rico', 'Honduras', 'England', 'Canada', 'Germany',\n",
       "       'Iran', 'Philippines', 'Italy', 'Poland', 'Columbia', 'Cambodia',\n",
       "       'Thailand', 'Laos', 'Taiwan', 'Haiti', 'Portugal',\n",
       "       'Dominican-Republic', 'El-Salvador', 'France', 'Guatemala',\n",
       "       'China', 'Japan', 'Yugoslavia', 'Peru',\n",
       "       'Outlying-US(Guam-USVI-etc)', 'Scotland', 'Trinadad&Tobago',\n",
       "       'Greece', 'Nicaragua', 'Vietnam', 'Hong', 'Ireland', 'Ecuador'],\n",
       "      dtype=object)"
      ]
     },
     "execution_count": 215,
     "metadata": {},
     "output_type": "execute_result"
    }
   ],
   "source": [
    "df['native_country'].unique()"
   ]
  },
  {
   "cell_type": "code",
   "execution_count": 216,
   "metadata": {},
   "outputs": [],
   "source": [
    "df.loc[df['native_country']=='?','native_country']='Others'"
   ]
  },
  {
   "cell_type": "markdown",
   "metadata": {},
   "source": [
    "Income"
   ]
  },
  {
   "cell_type": "code",
   "execution_count": 217,
   "metadata": {},
   "outputs": [
    {
     "data": {
      "text/plain": [
       "array(['<=50K', '>50K'], dtype=object)"
      ]
     },
     "execution_count": 217,
     "metadata": {},
     "output_type": "execute_result"
    }
   ],
   "source": [
    "df['income'].unique()"
   ]
  },
  {
   "cell_type": "code",
   "execution_count": null,
   "metadata": {},
   "outputs": [],
   "source": []
  },
  {
   "cell_type": "code",
   "execution_count": 218,
   "metadata": {},
   "outputs": [],
   "source": [
    "df = df.astype({'marital_status':'category','occupation':'category','relationship':'category','race':'category',\n",
    "                'sex':'category','native_country':'category'})"
   ]
  },
  {
   "cell_type": "code",
   "execution_count": 219,
   "metadata": {},
   "outputs": [
    {
     "name": "stdout",
     "output_type": "stream",
     "text": [
      "<class 'pandas.core.frame.DataFrame'>\n",
      "Int64Index: 4789 entries, 0 to 4999\n",
      "Data columns (total 15 columns):\n",
      " #   Column          Non-Null Count  Dtype   \n",
      "---  ------          --------------  -----   \n",
      " 0   age             4789 non-null   int32   \n",
      " 1   workclass       4789 non-null   category\n",
      " 2   fnlwgt          4789 non-null   float64 \n",
      " 3   education       4789 non-null   category\n",
      " 4   education_num   4789 non-null   float64 \n",
      " 5   marital_status  4789 non-null   category\n",
      " 6   occupation      4789 non-null   category\n",
      " 7   relationship    4789 non-null   category\n",
      " 8   race            4789 non-null   category\n",
      " 9   sex             4789 non-null   category\n",
      " 10  capital_gain    4789 non-null   int64   \n",
      " 11  capital_loss    4789 non-null   int64   \n",
      " 12  hours_per_week  4789 non-null   int64   \n",
      " 13  native_country  4789 non-null   category\n",
      " 14  income          4789 non-null   object  \n",
      "dtypes: category(8), float64(2), int32(1), int64(3), object(1)\n",
      "memory usage: 322.3+ KB\n"
     ]
    }
   ],
   "source": [
    "df.info()"
   ]
  },
  {
   "cell_type": "code",
   "execution_count": null,
   "metadata": {},
   "outputs": [],
   "source": []
  },
  {
   "cell_type": "markdown",
   "metadata": {},
   "source": [
    "Data Transformation"
   ]
  },
  {
   "cell_type": "markdown",
   "metadata": {},
   "source": [
    "    Encoding"
   ]
  },
  {
   "cell_type": "code",
   "execution_count": 220,
   "metadata": {},
   "outputs": [],
   "source": [
    "census_data = pd.get_dummies(df[['workclass','education','marital_status','occupation',\n",
    "                                      'relationship','race','sex','native_country']])"
   ]
  },
  {
   "cell_type": "code",
   "execution_count": 221,
   "metadata": {},
   "outputs": [],
   "source": [
    "data = pd.concat((df.drop(['workclass','education','marital_status','occupation',\n",
    "                                'relationship','race','sex','native_country'], axis = 1),census_data),axis = 1)"
   ]
  },
  {
   "cell_type": "code",
   "execution_count": 223,
   "metadata": {},
   "outputs": [],
   "source": [
    "y= data.pop('income')"
   ]
  },
  {
   "cell_type": "code",
   "execution_count": 224,
   "metadata": {},
   "outputs": [
    {
     "data": {
      "text/html": [
       "<div>\n",
       "<style scoped>\n",
       "    .dataframe tbody tr th:only-of-type {\n",
       "        vertical-align: middle;\n",
       "    }\n",
       "\n",
       "    .dataframe tbody tr th {\n",
       "        vertical-align: top;\n",
       "    }\n",
       "\n",
       "    .dataframe thead th {\n",
       "        text-align: right;\n",
       "    }\n",
       "</style>\n",
       "<table border=\"1\" class=\"dataframe\">\n",
       "  <thead>\n",
       "    <tr style=\"text-align: right;\">\n",
       "      <th></th>\n",
       "      <th>age</th>\n",
       "      <th>fnlwgt</th>\n",
       "      <th>education_num</th>\n",
       "      <th>capital_gain</th>\n",
       "      <th>capital_loss</th>\n",
       "      <th>hours_per_week</th>\n",
       "      <th>workclass_Federal-gov</th>\n",
       "      <th>workclass_Local-gov</th>\n",
       "      <th>workclass_Private</th>\n",
       "      <th>workclass_Self-emp-inc</th>\n",
       "      <th>...</th>\n",
       "      <th>native_country_Portugal</th>\n",
       "      <th>native_country_Puerto-Rico</th>\n",
       "      <th>native_country_Scotland</th>\n",
       "      <th>native_country_South</th>\n",
       "      <th>native_country_Taiwan</th>\n",
       "      <th>native_country_Thailand</th>\n",
       "      <th>native_country_Trinadad&amp;Tobago</th>\n",
       "      <th>native_country_United-States</th>\n",
       "      <th>native_country_Vietnam</th>\n",
       "      <th>native_country_Yugoslavia</th>\n",
       "    </tr>\n",
       "  </thead>\n",
       "  <tbody>\n",
       "    <tr>\n",
       "      <th>0</th>\n",
       "      <td>39</td>\n",
       "      <td>77516.0</td>\n",
       "      <td>13.0</td>\n",
       "      <td>2174</td>\n",
       "      <td>0</td>\n",
       "      <td>40</td>\n",
       "      <td>0</td>\n",
       "      <td>0</td>\n",
       "      <td>0</td>\n",
       "      <td>0</td>\n",
       "      <td>...</td>\n",
       "      <td>0</td>\n",
       "      <td>0</td>\n",
       "      <td>0</td>\n",
       "      <td>0</td>\n",
       "      <td>0</td>\n",
       "      <td>0</td>\n",
       "      <td>0</td>\n",
       "      <td>1</td>\n",
       "      <td>0</td>\n",
       "      <td>0</td>\n",
       "    </tr>\n",
       "    <tr>\n",
       "      <th>1</th>\n",
       "      <td>50</td>\n",
       "      <td>83311.0</td>\n",
       "      <td>13.0</td>\n",
       "      <td>0</td>\n",
       "      <td>0</td>\n",
       "      <td>13</td>\n",
       "      <td>0</td>\n",
       "      <td>0</td>\n",
       "      <td>0</td>\n",
       "      <td>0</td>\n",
       "      <td>...</td>\n",
       "      <td>0</td>\n",
       "      <td>0</td>\n",
       "      <td>0</td>\n",
       "      <td>0</td>\n",
       "      <td>0</td>\n",
       "      <td>0</td>\n",
       "      <td>0</td>\n",
       "      <td>1</td>\n",
       "      <td>0</td>\n",
       "      <td>0</td>\n",
       "    </tr>\n",
       "    <tr>\n",
       "      <th>2</th>\n",
       "      <td>38</td>\n",
       "      <td>215646.0</td>\n",
       "      <td>9.0</td>\n",
       "      <td>0</td>\n",
       "      <td>0</td>\n",
       "      <td>40</td>\n",
       "      <td>0</td>\n",
       "      <td>0</td>\n",
       "      <td>1</td>\n",
       "      <td>0</td>\n",
       "      <td>...</td>\n",
       "      <td>0</td>\n",
       "      <td>0</td>\n",
       "      <td>0</td>\n",
       "      <td>0</td>\n",
       "      <td>0</td>\n",
       "      <td>0</td>\n",
       "      <td>0</td>\n",
       "      <td>1</td>\n",
       "      <td>0</td>\n",
       "      <td>0</td>\n",
       "    </tr>\n",
       "    <tr>\n",
       "      <th>4</th>\n",
       "      <td>28</td>\n",
       "      <td>338409.0</td>\n",
       "      <td>13.0</td>\n",
       "      <td>0</td>\n",
       "      <td>0</td>\n",
       "      <td>40</td>\n",
       "      <td>0</td>\n",
       "      <td>0</td>\n",
       "      <td>1</td>\n",
       "      <td>0</td>\n",
       "      <td>...</td>\n",
       "      <td>0</td>\n",
       "      <td>0</td>\n",
       "      <td>0</td>\n",
       "      <td>0</td>\n",
       "      <td>0</td>\n",
       "      <td>0</td>\n",
       "      <td>0</td>\n",
       "      <td>0</td>\n",
       "      <td>0</td>\n",
       "      <td>0</td>\n",
       "    </tr>\n",
       "    <tr>\n",
       "      <th>5</th>\n",
       "      <td>37</td>\n",
       "      <td>284582.0</td>\n",
       "      <td>14.0</td>\n",
       "      <td>0</td>\n",
       "      <td>0</td>\n",
       "      <td>40</td>\n",
       "      <td>0</td>\n",
       "      <td>0</td>\n",
       "      <td>1</td>\n",
       "      <td>0</td>\n",
       "      <td>...</td>\n",
       "      <td>0</td>\n",
       "      <td>0</td>\n",
       "      <td>0</td>\n",
       "      <td>0</td>\n",
       "      <td>0</td>\n",
       "      <td>0</td>\n",
       "      <td>0</td>\n",
       "      <td>1</td>\n",
       "      <td>0</td>\n",
       "      <td>0</td>\n",
       "    </tr>\n",
       "  </tbody>\n",
       "</table>\n",
       "<p>5 rows × 106 columns</p>\n",
       "</div>"
      ],
      "text/plain": [
       "   age    fnlwgt  education_num  capital_gain  capital_loss  hours_per_week  \\\n",
       "0   39   77516.0           13.0          2174             0              40   \n",
       "1   50   83311.0           13.0             0             0              13   \n",
       "2   38  215646.0            9.0             0             0              40   \n",
       "4   28  338409.0           13.0             0             0              40   \n",
       "5   37  284582.0           14.0             0             0              40   \n",
       "\n",
       "   workclass_Federal-gov  workclass_Local-gov  workclass_Private  \\\n",
       "0                      0                    0                  0   \n",
       "1                      0                    0                  0   \n",
       "2                      0                    0                  1   \n",
       "4                      0                    0                  1   \n",
       "5                      0                    0                  1   \n",
       "\n",
       "   workclass_Self-emp-inc  ...  native_country_Portugal  \\\n",
       "0                       0  ...                        0   \n",
       "1                       0  ...                        0   \n",
       "2                       0  ...                        0   \n",
       "4                       0  ...                        0   \n",
       "5                       0  ...                        0   \n",
       "\n",
       "   native_country_Puerto-Rico  native_country_Scotland  native_country_South  \\\n",
       "0                           0                        0                     0   \n",
       "1                           0                        0                     0   \n",
       "2                           0                        0                     0   \n",
       "4                           0                        0                     0   \n",
       "5                           0                        0                     0   \n",
       "\n",
       "   native_country_Taiwan  native_country_Thailand  \\\n",
       "0                      0                        0   \n",
       "1                      0                        0   \n",
       "2                      0                        0   \n",
       "4                      0                        0   \n",
       "5                      0                        0   \n",
       "\n",
       "   native_country_Trinadad&Tobago  native_country_United-States  \\\n",
       "0                               0                             1   \n",
       "1                               0                             1   \n",
       "2                               0                             1   \n",
       "4                               0                             0   \n",
       "5                               0                             1   \n",
       "\n",
       "   native_country_Vietnam  native_country_Yugoslavia  \n",
       "0                       0                          0  \n",
       "1                       0                          0  \n",
       "2                       0                          0  \n",
       "4                       0                          0  \n",
       "5                       0                          0  \n",
       "\n",
       "[5 rows x 106 columns]"
      ]
     },
     "execution_count": 224,
     "metadata": {},
     "output_type": "execute_result"
    }
   ],
   "source": [
    "data.head()"
   ]
  },
  {
   "cell_type": "markdown",
   "metadata": {},
   "source": [
    "    Standardazing Data"
   ]
  },
  {
   "cell_type": "code",
   "execution_count": 226,
   "metadata": {},
   "outputs": [],
   "source": [
    "from sklearn.preprocessing import StandardScaler"
   ]
  },
  {
   "cell_type": "code",
   "execution_count": 227,
   "metadata": {},
   "outputs": [],
   "source": [
    "scale = StandardScaler()"
   ]
  },
  {
   "cell_type": "code",
   "execution_count": 230,
   "metadata": {},
   "outputs": [],
   "source": [
    "data_std = scale.fit_transform(data)"
   ]
  },
  {
   "cell_type": "markdown",
   "metadata": {},
   "source": [
    "Modelling"
   ]
  },
  {
   "cell_type": "markdown",
   "metadata": {},
   "source": [
    "    Data Splitting "
   ]
  },
  {
   "cell_type": "code",
   "execution_count": 232,
   "metadata": {},
   "outputs": [],
   "source": [
    "from sklearn.model_selection import train_test_split"
   ]
  },
  {
   "cell_type": "code",
   "execution_count": 236,
   "metadata": {},
   "outputs": [],
   "source": [
    "X_train, X_test, y_train, y_test = train_test_split(data_std, y, test_size=0.2)"
   ]
  },
  {
   "cell_type": "markdown",
   "metadata": {},
   "source": [
    "Logistic Model"
   ]
  },
  {
   "cell_type": "code",
   "execution_count": 237,
   "metadata": {},
   "outputs": [],
   "source": [
    "from sklearn.linear_model import LogisticRegression"
   ]
  },
  {
   "cell_type": "code",
   "execution_count": 238,
   "metadata": {},
   "outputs": [],
   "source": [
    "logic = LogisticRegression()"
   ]
  },
  {
   "cell_type": "code",
   "execution_count": 239,
   "metadata": {},
   "outputs": [
    {
     "data": {
      "text/plain": [
       "LogisticRegression()"
      ]
     },
     "execution_count": 239,
     "metadata": {},
     "output_type": "execute_result"
    }
   ],
   "source": [
    "logic.fit(X_train,y_train)"
   ]
  },
  {
   "cell_type": "code",
   "execution_count": 241,
   "metadata": {},
   "outputs": [
    {
     "data": {
      "text/plain": [
       "array([[ 0.38368962,  0.0529009 ,  0.31099362,  2.05425033,  0.27835818,\n",
       "         0.42932879,  0.14824797, -0.0434411 ,  0.03076641,  0.06874008,\n",
       "        -0.14041125,  0.02275616, -0.03357952,  0.0031417 , -0.12442388,\n",
       "        -0.03808616, -0.03069807, -0.03878004, -0.01144269, -0.06835577,\n",
       "        -0.1992201 ,  0.03286582,  0.04891627,  0.14406364,  0.18621816,\n",
       "        -0.00443243,  0.064857  , -0.12487756,  0.10196429, -0.09827376,\n",
       "         0.        , -0.19985077, -0.14353797,  0.86448746, -0.07228922,\n",
       "        -0.63715804, -0.13224618, -0.13931459, -0.10123994, -0.08606455,\n",
       "         0.04113255,  0.32318211, -0.26655075, -0.14764154, -0.08164074,\n",
       "        -0.27458239, -0.19454583,  0.21430157,  0.02583945,  0.07127532,\n",
       "        -0.03357952,  0.11824935, -0.0308427 , -0.06775046,  0.25070923,\n",
       "         0.02289189, -0.48532044,  0.08713558,  0.31228452, -0.12006531,\n",
       "         0.11160676,  0.02111267, -0.10091668,  0.02562077, -0.16620563,\n",
       "         0.16620563,  0.06770448,  0.07323815, -0.0372202 , -0.22742577,\n",
       "        -0.27299824,  0.03216913, -0.01381315, -0.09236909, -0.00247968,\n",
       "         0.03345293,  0.00724629,  0.01832671, -0.09127702, -0.15531282,\n",
       "        -0.02321502,  0.0031417 , -0.06550128,  0.08740974, -0.02665472,\n",
       "         0.02360998,  0.09117512, -0.04879897, -0.10969651,  0.01720705,\n",
       "        -0.16359354,  0.01727342, -0.09115475, -0.00850575,  0.03285863,\n",
       "        -0.04875459,  0.03643804,  0.0073696 , -0.06489274, -0.19898278,\n",
       "         0.00516581, -0.01649703, -0.11919789,  0.13249133,  0.01195058,\n",
       "        -0.0964865 ]])"
      ]
     },
     "execution_count": 241,
     "metadata": {},
     "output_type": "execute_result"
    }
   ],
   "source": [
    "logic.coef_"
   ]
  },
  {
   "cell_type": "code",
   "execution_count": 242,
   "metadata": {},
   "outputs": [
    {
     "data": {
      "text/plain": [
       "array([-2.25544045])"
      ]
     },
     "execution_count": 242,
     "metadata": {},
     "output_type": "execute_result"
    }
   ],
   "source": [
    "logic.intercept_"
   ]
  },
  {
   "cell_type": "code",
   "execution_count": 245,
   "metadata": {},
   "outputs": [],
   "source": [
    "predict_logic =logic.predict(X_test)"
   ]
  },
  {
   "cell_type": "markdown",
   "metadata": {},
   "source": [
    "    Accuracy test for Logistic model"
   ]
  },
  {
   "cell_type": "code",
   "execution_count": 247,
   "metadata": {},
   "outputs": [],
   "source": [
    "from sklearn.metrics import accuracy_score,confusion_matrix,classification_report"
   ]
  },
  {
   "cell_type": "code",
   "execution_count": 248,
   "metadata": {},
   "outputs": [
    {
     "name": "stdout",
     "output_type": "stream",
     "text": [
      "0.8298538622129437\n"
     ]
    }
   ],
   "source": [
    "print(accuracy_score(y_test,predict_logic))"
   ]
  },
  {
   "cell_type": "code",
   "execution_count": 250,
   "metadata": {},
   "outputs": [
    {
     "name": "stdout",
     "output_type": "stream",
     "text": [
      "[[670  73]\n",
      " [ 90 125]]\n"
     ]
    }
   ],
   "source": [
    "print(confusion_matrix(y_test,predict_logic))"
   ]
  },
  {
   "cell_type": "markdown",
   "metadata": {},
   "source": [
    "Decision Tree"
   ]
  },
  {
   "cell_type": "code",
   "execution_count": 251,
   "metadata": {},
   "outputs": [],
   "source": [
    "from sklearn.tree import DecisionTreeClassifier"
   ]
  },
  {
   "cell_type": "code",
   "execution_count": 252,
   "metadata": {},
   "outputs": [],
   "source": [
    "decision  = DecisionTreeClassifier()"
   ]
  },
  {
   "cell_type": "code",
   "execution_count": 253,
   "metadata": {},
   "outputs": [
    {
     "data": {
      "text/plain": [
       "DecisionTreeClassifier()"
      ]
     },
     "execution_count": 253,
     "metadata": {},
     "output_type": "execute_result"
    }
   ],
   "source": [
    "decision.fit(X_train,y_train)"
   ]
  },
  {
   "cell_type": "code",
   "execution_count": 255,
   "metadata": {},
   "outputs": [],
   "source": [
    "predict_decision = decision.predict(X_test)"
   ]
  },
  {
   "cell_type": "markdown",
   "metadata": {},
   "source": [
    "    Accuracy test for Decision Tree"
   ]
  },
  {
   "cell_type": "code",
   "execution_count": 256,
   "metadata": {},
   "outputs": [
    {
     "name": "stdout",
     "output_type": "stream",
     "text": [
      "0.7943632567849687\n"
     ]
    }
   ],
   "source": [
    "print(accuracy_score(y_test,predict_decision))"
   ]
  },
  {
   "cell_type": "code",
   "execution_count": 257,
   "metadata": {},
   "outputs": [
    {
     "name": "stdout",
     "output_type": "stream",
     "text": [
      "[[630 113]\n",
      " [ 84 131]]\n"
     ]
    }
   ],
   "source": [
    "print(confusion_matrix(y_test,predict_decision))"
   ]
  },
  {
   "cell_type": "markdown",
   "metadata": {},
   "source": [
    "Random Forest"
   ]
  },
  {
   "cell_type": "code",
   "execution_count": 259,
   "metadata": {},
   "outputs": [],
   "source": [
    "from sklearn.ensemble import RandomForestClassifier"
   ]
  },
  {
   "cell_type": "code",
   "execution_count": 260,
   "metadata": {},
   "outputs": [],
   "source": [
    "rf = RandomForestClassifier()"
   ]
  },
  {
   "cell_type": "code",
   "execution_count": 261,
   "metadata": {},
   "outputs": [
    {
     "data": {
      "text/plain": [
       "RandomForestClassifier()"
      ]
     },
     "execution_count": 261,
     "metadata": {},
     "output_type": "execute_result"
    }
   ],
   "source": [
    "rf.fit(X_train,y_train)"
   ]
  },
  {
   "cell_type": "code",
   "execution_count": 262,
   "metadata": {},
   "outputs": [],
   "source": [
    "predict_rf = rf.predict(X_test)"
   ]
  },
  {
   "cell_type": "markdown",
   "metadata": {},
   "source": [
    "     Accuracy test for Random Forest"
   ]
  },
  {
   "cell_type": "code",
   "execution_count": 263,
   "metadata": {},
   "outputs": [
    {
     "name": "stdout",
     "output_type": "stream",
     "text": [
      "0.8308977035490606\n"
     ]
    }
   ],
   "source": [
    "print(accuracy_score(y_test,predict_rf))"
   ]
  },
  {
   "cell_type": "code",
   "execution_count": 264,
   "metadata": {},
   "outputs": [
    {
     "name": "stdout",
     "output_type": "stream",
     "text": [
      "[[669  74]\n",
      " [ 88 127]]\n"
     ]
    }
   ],
   "source": [
    "print(confusion_matrix(y_test,predict_rf))"
   ]
  },
  {
   "cell_type": "code",
   "execution_count": 265,
   "metadata": {},
   "outputs": [
    {
     "name": "stdout",
     "output_type": "stream",
     "text": [
      "              precision    recall  f1-score   support\n",
      "\n",
      "       <=50K       0.88      0.90      0.89       743\n",
      "        >50K       0.63      0.59      0.61       215\n",
      "\n",
      "    accuracy                           0.83       958\n",
      "   macro avg       0.76      0.75      0.75       958\n",
      "weighted avg       0.83      0.83      0.83       958\n",
      "\n"
     ]
    }
   ],
   "source": [
    "print(classification_report(y_test,predict_rf))"
   ]
  },
  {
   "cell_type": "markdown",
   "metadata": {},
   "source": [
    "Grid Search for Random Forest"
   ]
  },
  {
   "cell_type": "code",
   "execution_count": 279,
   "metadata": {},
   "outputs": [],
   "source": [
    "from sklearn.model_selection import GridSearchCV"
   ]
  },
  {
   "cell_type": "code",
   "execution_count": 280,
   "metadata": {},
   "outputs": [],
   "source": [
    "params ={'n_estimators':[150,200,250,300],'max_depth':[5,10,15,20,25,30],'min_samples_leaf':[2,3,4,5]}"
   ]
  },
  {
   "cell_type": "code",
   "execution_count": 282,
   "metadata": {},
   "outputs": [],
   "source": [
    "grid = GridSearchCV(rf,params,verbose=3)"
   ]
  },
  {
   "cell_type": "code",
   "execution_count": 283,
   "metadata": {},
   "outputs": [
    {
     "name": "stdout",
     "output_type": "stream",
     "text": [
      "Fitting 5 folds for each of 96 candidates, totalling 480 fits\n",
      "[CV] max_depth=5, min_samples_leaf=2, n_estimators=150 ...............\n"
     ]
    },
    {
     "name": "stderr",
     "output_type": "stream",
     "text": [
      "[Parallel(n_jobs=1)]: Using backend SequentialBackend with 1 concurrent workers.\n"
     ]
    },
    {
     "name": "stdout",
     "output_type": "stream",
     "text": [
      "[CV]  max_depth=5, min_samples_leaf=2, n_estimators=150, score=0.849, total=   0.3s\n",
      "[CV] max_depth=5, min_samples_leaf=2, n_estimators=150 ...............\n"
     ]
    },
    {
     "name": "stderr",
     "output_type": "stream",
     "text": [
      "[Parallel(n_jobs=1)]: Done   1 out of   1 | elapsed:    0.2s remaining:    0.0s\n"
     ]
    },
    {
     "name": "stdout",
     "output_type": "stream",
     "text": [
      "[CV]  max_depth=5, min_samples_leaf=2, n_estimators=150, score=0.833, total=   0.3s\n",
      "[CV] max_depth=5, min_samples_leaf=2, n_estimators=150 ...............\n"
     ]
    },
    {
     "name": "stderr",
     "output_type": "stream",
     "text": [
      "[Parallel(n_jobs=1)]: Done   2 out of   2 | elapsed:    0.4s remaining:    0.0s\n"
     ]
    },
    {
     "name": "stdout",
     "output_type": "stream",
     "text": [
      "[CV]  max_depth=5, min_samples_leaf=2, n_estimators=150, score=0.846, total=   0.3s\n",
      "[CV] max_depth=5, min_samples_leaf=2, n_estimators=150 ...............\n",
      "[CV]  max_depth=5, min_samples_leaf=2, n_estimators=150, score=0.836, total=   0.3s\n",
      "[CV] max_depth=5, min_samples_leaf=2, n_estimators=150 ...............\n",
      "[CV]  max_depth=5, min_samples_leaf=2, n_estimators=150, score=0.834, total=   0.3s\n",
      "[CV] max_depth=5, min_samples_leaf=2, n_estimators=200 ...............\n",
      "[CV]  max_depth=5, min_samples_leaf=2, n_estimators=200, score=0.854, total=   0.3s\n",
      "[CV] max_depth=5, min_samples_leaf=2, n_estimators=200 ...............\n",
      "[CV]  max_depth=5, min_samples_leaf=2, n_estimators=200, score=0.829, total=   0.3s\n",
      "[CV] max_depth=5, min_samples_leaf=2, n_estimators=200 ...............\n",
      "[CV]  max_depth=5, min_samples_leaf=2, n_estimators=200, score=0.845, total=   0.3s\n",
      "[CV] max_depth=5, min_samples_leaf=2, n_estimators=200 ...............\n",
      "[CV]  max_depth=5, min_samples_leaf=2, n_estimators=200, score=0.833, total=   0.3s\n",
      "[CV] max_depth=5, min_samples_leaf=2, n_estimators=200 ...............\n",
      "[CV]  max_depth=5, min_samples_leaf=2, n_estimators=200, score=0.830, total=   0.3s\n",
      "[CV] max_depth=5, min_samples_leaf=2, n_estimators=250 ...............\n",
      "[CV]  max_depth=5, min_samples_leaf=2, n_estimators=250, score=0.850, total=   0.4s\n",
      "[CV] max_depth=5, min_samples_leaf=2, n_estimators=250 ...............\n",
      "[CV]  max_depth=5, min_samples_leaf=2, n_estimators=250, score=0.833, total=   0.4s\n",
      "[CV] max_depth=5, min_samples_leaf=2, n_estimators=250 ...............\n",
      "[CV]  max_depth=5, min_samples_leaf=2, n_estimators=250, score=0.845, total=   0.4s\n",
      "[CV] max_depth=5, min_samples_leaf=2, n_estimators=250 ...............\n",
      "[CV]  max_depth=5, min_samples_leaf=2, n_estimators=250, score=0.834, total=   0.4s\n",
      "[CV] max_depth=5, min_samples_leaf=2, n_estimators=250 ...............\n",
      "[CV]  max_depth=5, min_samples_leaf=2, n_estimators=250, score=0.832, total=   0.4s\n",
      "[CV] max_depth=5, min_samples_leaf=2, n_estimators=300 ...............\n",
      "[CV]  max_depth=5, min_samples_leaf=2, n_estimators=300, score=0.854, total=   0.5s\n",
      "[CV] max_depth=5, min_samples_leaf=2, n_estimators=300 ...............\n",
      "[CV]  max_depth=5, min_samples_leaf=2, n_estimators=300, score=0.832, total=   0.5s\n",
      "[CV] max_depth=5, min_samples_leaf=2, n_estimators=300 ...............\n",
      "[CV]  max_depth=5, min_samples_leaf=2, n_estimators=300, score=0.851, total=   0.5s\n",
      "[CV] max_depth=5, min_samples_leaf=2, n_estimators=300 ...............\n",
      "[CV]  max_depth=5, min_samples_leaf=2, n_estimators=300, score=0.837, total=   0.5s\n",
      "[CV] max_depth=5, min_samples_leaf=2, n_estimators=300 ...............\n",
      "[CV]  max_depth=5, min_samples_leaf=2, n_estimators=300, score=0.834, total=   0.5s\n",
      "[CV] max_depth=5, min_samples_leaf=3, n_estimators=150 ...............\n",
      "[CV]  max_depth=5, min_samples_leaf=3, n_estimators=150, score=0.842, total=   0.2s\n",
      "[CV] max_depth=5, min_samples_leaf=3, n_estimators=150 ...............\n",
      "[CV]  max_depth=5, min_samples_leaf=3, n_estimators=150, score=0.829, total=   0.3s\n",
      "[CV] max_depth=5, min_samples_leaf=3, n_estimators=150 ...............\n",
      "[CV]  max_depth=5, min_samples_leaf=3, n_estimators=150, score=0.850, total=   0.3s\n",
      "[CV] max_depth=5, min_samples_leaf=3, n_estimators=150 ...............\n",
      "[CV]  max_depth=5, min_samples_leaf=3, n_estimators=150, score=0.838, total=   0.3s\n",
      "[CV] max_depth=5, min_samples_leaf=3, n_estimators=150 ...............\n",
      "[CV]  max_depth=5, min_samples_leaf=3, n_estimators=150, score=0.830, total=   0.3s\n",
      "[CV] max_depth=5, min_samples_leaf=3, n_estimators=200 ...............\n",
      "[CV]  max_depth=5, min_samples_leaf=3, n_estimators=200, score=0.854, total=   0.3s\n",
      "[CV] max_depth=5, min_samples_leaf=3, n_estimators=200 ...............\n",
      "[CV]  max_depth=5, min_samples_leaf=3, n_estimators=200, score=0.834, total=   0.3s\n",
      "[CV] max_depth=5, min_samples_leaf=3, n_estimators=200 ...............\n",
      "[CV]  max_depth=5, min_samples_leaf=3, n_estimators=200, score=0.846, total=   0.3s\n",
      "[CV] max_depth=5, min_samples_leaf=3, n_estimators=200 ...............\n",
      "[CV]  max_depth=5, min_samples_leaf=3, n_estimators=200, score=0.836, total=   0.3s\n",
      "[CV] max_depth=5, min_samples_leaf=3, n_estimators=200 ...............\n",
      "[CV]  max_depth=5, min_samples_leaf=3, n_estimators=200, score=0.829, total=   0.3s\n",
      "[CV] max_depth=5, min_samples_leaf=3, n_estimators=250 ...............\n",
      "[CV]  max_depth=5, min_samples_leaf=3, n_estimators=250, score=0.851, total=   0.4s\n",
      "[CV] max_depth=5, min_samples_leaf=3, n_estimators=250 ...............\n",
      "[CV]  max_depth=5, min_samples_leaf=3, n_estimators=250, score=0.832, total=   0.4s\n",
      "[CV] max_depth=5, min_samples_leaf=3, n_estimators=250 ...............\n",
      "[CV]  max_depth=5, min_samples_leaf=3, n_estimators=250, score=0.847, total=   0.4s\n",
      "[CV] max_depth=5, min_samples_leaf=3, n_estimators=250 ...............\n",
      "[CV]  max_depth=5, min_samples_leaf=3, n_estimators=250, score=0.839, total=   0.4s\n",
      "[CV] max_depth=5, min_samples_leaf=3, n_estimators=250 ...............\n",
      "[CV]  max_depth=5, min_samples_leaf=3, n_estimators=250, score=0.832, total=   0.4s\n",
      "[CV] max_depth=5, min_samples_leaf=3, n_estimators=300 ...............\n",
      "[CV]  max_depth=5, min_samples_leaf=3, n_estimators=300, score=0.854, total=   0.5s\n",
      "[CV] max_depth=5, min_samples_leaf=3, n_estimators=300 ...............\n",
      "[CV]  max_depth=5, min_samples_leaf=3, n_estimators=300, score=0.830, total=   0.5s\n",
      "[CV] max_depth=5, min_samples_leaf=3, n_estimators=300 ...............\n",
      "[CV]  max_depth=5, min_samples_leaf=3, n_estimators=300, score=0.843, total=   0.5s\n",
      "[CV] max_depth=5, min_samples_leaf=3, n_estimators=300 ...............\n",
      "[CV]  max_depth=5, min_samples_leaf=3, n_estimators=300, score=0.837, total=   0.5s\n",
      "[CV] max_depth=5, min_samples_leaf=3, n_estimators=300 ...............\n",
      "[CV]  max_depth=5, min_samples_leaf=3, n_estimators=300, score=0.832, total=   0.5s\n",
      "[CV] max_depth=5, min_samples_leaf=4, n_estimators=150 ...............\n",
      "[CV]  max_depth=5, min_samples_leaf=4, n_estimators=150, score=0.853, total=   0.2s\n",
      "[CV] max_depth=5, min_samples_leaf=4, n_estimators=150 ...............\n",
      "[CV]  max_depth=5, min_samples_leaf=4, n_estimators=150, score=0.833, total=   0.3s\n",
      "[CV] max_depth=5, min_samples_leaf=4, n_estimators=150 ...............\n",
      "[CV]  max_depth=5, min_samples_leaf=4, n_estimators=150, score=0.847, total=   0.3s\n",
      "[CV] max_depth=5, min_samples_leaf=4, n_estimators=150 ...............\n",
      "[CV]  max_depth=5, min_samples_leaf=4, n_estimators=150, score=0.837, total=   0.3s\n",
      "[CV] max_depth=5, min_samples_leaf=4, n_estimators=150 ...............\n",
      "[CV]  max_depth=5, min_samples_leaf=4, n_estimators=150, score=0.829, total=   0.3s\n",
      "[CV] max_depth=5, min_samples_leaf=4, n_estimators=200 ...............\n",
      "[CV]  max_depth=5, min_samples_leaf=4, n_estimators=200, score=0.846, total=   0.3s\n",
      "[CV] max_depth=5, min_samples_leaf=4, n_estimators=200 ...............\n",
      "[CV]  max_depth=5, min_samples_leaf=4, n_estimators=200, score=0.833, total=   0.3s\n",
      "[CV] max_depth=5, min_samples_leaf=4, n_estimators=200 ...............\n",
      "[CV]  max_depth=5, min_samples_leaf=4, n_estimators=200, score=0.847, total=   0.3s\n",
      "[CV] max_depth=5, min_samples_leaf=4, n_estimators=200 ...............\n",
      "[CV]  max_depth=5, min_samples_leaf=4, n_estimators=200, score=0.837, total=   0.3s\n",
      "[CV] max_depth=5, min_samples_leaf=4, n_estimators=200 ...............\n",
      "[CV]  max_depth=5, min_samples_leaf=4, n_estimators=200, score=0.830, total=   0.3s\n",
      "[CV] max_depth=5, min_samples_leaf=4, n_estimators=250 ...............\n",
      "[CV]  max_depth=5, min_samples_leaf=4, n_estimators=250, score=0.842, total=   0.4s\n",
      "[CV] max_depth=5, min_samples_leaf=4, n_estimators=250 ...............\n",
      "[CV]  max_depth=5, min_samples_leaf=4, n_estimators=250, score=0.833, total=   0.4s\n",
      "[CV] max_depth=5, min_samples_leaf=4, n_estimators=250 ...............\n",
      "[CV]  max_depth=5, min_samples_leaf=4, n_estimators=250, score=0.847, total=   0.4s\n",
      "[CV] max_depth=5, min_samples_leaf=4, n_estimators=250 ...............\n",
      "[CV]  max_depth=5, min_samples_leaf=4, n_estimators=250, score=0.838, total=   0.4s\n",
      "[CV] max_depth=5, min_samples_leaf=4, n_estimators=250 ...............\n",
      "[CV]  max_depth=5, min_samples_leaf=4, n_estimators=250, score=0.829, total=   0.4s\n",
      "[CV] max_depth=5, min_samples_leaf=4, n_estimators=300 ...............\n"
     ]
    },
    {
     "name": "stdout",
     "output_type": "stream",
     "text": [
      "[CV]  max_depth=5, min_samples_leaf=4, n_estimators=300, score=0.851, total=   0.5s\n",
      "[CV] max_depth=5, min_samples_leaf=4, n_estimators=300 ...............\n",
      "[CV]  max_depth=5, min_samples_leaf=4, n_estimators=300, score=0.832, total=   0.5s\n",
      "[CV] max_depth=5, min_samples_leaf=4, n_estimators=300 ...............\n",
      "[CV]  max_depth=5, min_samples_leaf=4, n_estimators=300, score=0.851, total=   0.5s\n",
      "[CV] max_depth=5, min_samples_leaf=4, n_estimators=300 ...............\n",
      "[CV]  max_depth=5, min_samples_leaf=4, n_estimators=300, score=0.839, total=   0.5s\n",
      "[CV] max_depth=5, min_samples_leaf=4, n_estimators=300 ...............\n",
      "[CV]  max_depth=5, min_samples_leaf=4, n_estimators=300, score=0.830, total=   0.5s\n",
      "[CV] max_depth=5, min_samples_leaf=5, n_estimators=150 ...............\n",
      "[CV]  max_depth=5, min_samples_leaf=5, n_estimators=150, score=0.847, total=   0.2s\n",
      "[CV] max_depth=5, min_samples_leaf=5, n_estimators=150 ...............\n",
      "[CV]  max_depth=5, min_samples_leaf=5, n_estimators=150, score=0.829, total=   0.3s\n",
      "[CV] max_depth=5, min_samples_leaf=5, n_estimators=150 ...............\n",
      "[CV]  max_depth=5, min_samples_leaf=5, n_estimators=150, score=0.845, total=   0.2s\n",
      "[CV] max_depth=5, min_samples_leaf=5, n_estimators=150 ...............\n",
      "[CV]  max_depth=5, min_samples_leaf=5, n_estimators=150, score=0.837, total=   0.2s\n",
      "[CV] max_depth=5, min_samples_leaf=5, n_estimators=150 ...............\n",
      "[CV]  max_depth=5, min_samples_leaf=5, n_estimators=150, score=0.828, total=   0.3s\n",
      "[CV] max_depth=5, min_samples_leaf=5, n_estimators=200 ...............\n",
      "[CV]  max_depth=5, min_samples_leaf=5, n_estimators=200, score=0.846, total=   0.3s\n",
      "[CV] max_depth=5, min_samples_leaf=5, n_estimators=200 ...............\n",
      "[CV]  max_depth=5, min_samples_leaf=5, n_estimators=200, score=0.834, total=   0.3s\n",
      "[CV] max_depth=5, min_samples_leaf=5, n_estimators=200 ...............\n",
      "[CV]  max_depth=5, min_samples_leaf=5, n_estimators=200, score=0.847, total=   0.3s\n",
      "[CV] max_depth=5, min_samples_leaf=5, n_estimators=200 ...............\n",
      "[CV]  max_depth=5, min_samples_leaf=5, n_estimators=200, score=0.837, total=   0.3s\n",
      "[CV] max_depth=5, min_samples_leaf=5, n_estimators=200 ...............\n",
      "[CV]  max_depth=5, min_samples_leaf=5, n_estimators=200, score=0.830, total=   0.3s\n",
      "[CV] max_depth=5, min_samples_leaf=5, n_estimators=250 ...............\n",
      "[CV]  max_depth=5, min_samples_leaf=5, n_estimators=250, score=0.847, total=   0.4s\n",
      "[CV] max_depth=5, min_samples_leaf=5, n_estimators=250 ...............\n",
      "[CV]  max_depth=5, min_samples_leaf=5, n_estimators=250, score=0.834, total=   0.4s\n",
      "[CV] max_depth=5, min_samples_leaf=5, n_estimators=250 ...............\n",
      "[CV]  max_depth=5, min_samples_leaf=5, n_estimators=250, score=0.846, total=   0.4s\n",
      "[CV] max_depth=5, min_samples_leaf=5, n_estimators=250 ...............\n",
      "[CV]  max_depth=5, min_samples_leaf=5, n_estimators=250, score=0.837, total=   0.4s\n",
      "[CV] max_depth=5, min_samples_leaf=5, n_estimators=250 ...............\n",
      "[CV]  max_depth=5, min_samples_leaf=5, n_estimators=250, score=0.836, total=   0.4s\n",
      "[CV] max_depth=5, min_samples_leaf=5, n_estimators=300 ...............\n",
      "[CV]  max_depth=5, min_samples_leaf=5, n_estimators=300, score=0.853, total=   0.5s\n",
      "[CV] max_depth=5, min_samples_leaf=5, n_estimators=300 ...............\n",
      "[CV]  max_depth=5, min_samples_leaf=5, n_estimators=300, score=0.832, total=   0.5s\n",
      "[CV] max_depth=5, min_samples_leaf=5, n_estimators=300 ...............\n",
      "[CV]  max_depth=5, min_samples_leaf=5, n_estimators=300, score=0.837, total=   0.5s\n",
      "[CV] max_depth=5, min_samples_leaf=5, n_estimators=300 ...............\n",
      "[CV]  max_depth=5, min_samples_leaf=5, n_estimators=300, score=0.834, total=   0.5s\n",
      "[CV] max_depth=5, min_samples_leaf=5, n_estimators=300 ...............\n",
      "[CV]  max_depth=5, min_samples_leaf=5, n_estimators=300, score=0.830, total=   0.5s\n",
      "[CV] max_depth=10, min_samples_leaf=2, n_estimators=150 ..............\n",
      "[CV]  max_depth=10, min_samples_leaf=2, n_estimators=150, score=0.860, total=   0.3s\n",
      "[CV] max_depth=10, min_samples_leaf=2, n_estimators=150 ..............\n",
      "[CV]  max_depth=10, min_samples_leaf=2, n_estimators=150, score=0.851, total=   0.3s\n",
      "[CV] max_depth=10, min_samples_leaf=2, n_estimators=150 ..............\n",
      "[CV]  max_depth=10, min_samples_leaf=2, n_estimators=150, score=0.858, total=   0.3s\n",
      "[CV] max_depth=10, min_samples_leaf=2, n_estimators=150 ..............\n",
      "[CV]  max_depth=10, min_samples_leaf=2, n_estimators=150, score=0.858, total=   0.3s\n",
      "[CV] max_depth=10, min_samples_leaf=2, n_estimators=150 ..............\n",
      "[CV]  max_depth=10, min_samples_leaf=2, n_estimators=150, score=0.849, total=   0.3s\n",
      "[CV] max_depth=10, min_samples_leaf=2, n_estimators=200 ..............\n",
      "[CV]  max_depth=10, min_samples_leaf=2, n_estimators=200, score=0.859, total=   0.4s\n",
      "[CV] max_depth=10, min_samples_leaf=2, n_estimators=200 ..............\n",
      "[CV]  max_depth=10, min_samples_leaf=2, n_estimators=200, score=0.852, total=   0.4s\n",
      "[CV] max_depth=10, min_samples_leaf=2, n_estimators=200 ..............\n",
      "[CV]  max_depth=10, min_samples_leaf=2, n_estimators=200, score=0.860, total=   0.4s\n",
      "[CV] max_depth=10, min_samples_leaf=2, n_estimators=200 ..............\n",
      "[CV]  max_depth=10, min_samples_leaf=2, n_estimators=200, score=0.850, total=   0.4s\n",
      "[CV] max_depth=10, min_samples_leaf=2, n_estimators=200 ..............\n",
      "[CV]  max_depth=10, min_samples_leaf=2, n_estimators=200, score=0.849, total=   0.4s\n",
      "[CV] max_depth=10, min_samples_leaf=2, n_estimators=250 ..............\n",
      "[CV]  max_depth=10, min_samples_leaf=2, n_estimators=250, score=0.853, total=   0.5s\n",
      "[CV] max_depth=10, min_samples_leaf=2, n_estimators=250 ..............\n",
      "[CV]  max_depth=10, min_samples_leaf=2, n_estimators=250, score=0.849, total=   0.5s\n",
      "[CV] max_depth=10, min_samples_leaf=2, n_estimators=250 ..............\n",
      "[CV]  max_depth=10, min_samples_leaf=2, n_estimators=250, score=0.859, total=   0.5s\n",
      "[CV] max_depth=10, min_samples_leaf=2, n_estimators=250 ..............\n",
      "[CV]  max_depth=10, min_samples_leaf=2, n_estimators=250, score=0.855, total=   0.5s\n",
      "[CV] max_depth=10, min_samples_leaf=2, n_estimators=250 ..............\n",
      "[CV]  max_depth=10, min_samples_leaf=2, n_estimators=250, score=0.849, total=   0.5s\n",
      "[CV] max_depth=10, min_samples_leaf=2, n_estimators=300 ..............\n",
      "[CV]  max_depth=10, min_samples_leaf=2, n_estimators=300, score=0.864, total=   0.6s\n",
      "[CV] max_depth=10, min_samples_leaf=2, n_estimators=300 ..............\n",
      "[CV]  max_depth=10, min_samples_leaf=2, n_estimators=300, score=0.852, total=   0.6s\n",
      "[CV] max_depth=10, min_samples_leaf=2, n_estimators=300 ..............\n",
      "[CV]  max_depth=10, min_samples_leaf=2, n_estimators=300, score=0.858, total=   0.6s\n",
      "[CV] max_depth=10, min_samples_leaf=2, n_estimators=300 ..............\n",
      "[CV]  max_depth=10, min_samples_leaf=2, n_estimators=300, score=0.855, total=   0.6s\n",
      "[CV] max_depth=10, min_samples_leaf=2, n_estimators=300 ..............\n",
      "[CV]  max_depth=10, min_samples_leaf=2, n_estimators=300, score=0.851, total=   0.6s\n",
      "[CV] max_depth=10, min_samples_leaf=3, n_estimators=150 ..............\n",
      "[CV]  max_depth=10, min_samples_leaf=3, n_estimators=150, score=0.859, total=   0.3s\n",
      "[CV] max_depth=10, min_samples_leaf=3, n_estimators=150 ..............\n",
      "[CV]  max_depth=10, min_samples_leaf=3, n_estimators=150, score=0.846, total=   0.3s\n",
      "[CV] max_depth=10, min_samples_leaf=3, n_estimators=150 ..............\n",
      "[CV]  max_depth=10, min_samples_leaf=3, n_estimators=150, score=0.860, total=   0.3s\n",
      "[CV] max_depth=10, min_samples_leaf=3, n_estimators=150 ..............\n",
      "[CV]  max_depth=10, min_samples_leaf=3, n_estimators=150, score=0.849, total=   0.3s\n",
      "[CV] max_depth=10, min_samples_leaf=3, n_estimators=150 ..............\n",
      "[CV]  max_depth=10, min_samples_leaf=3, n_estimators=150, score=0.846, total=   0.3s\n",
      "[CV] max_depth=10, min_samples_leaf=3, n_estimators=200 ..............\n",
      "[CV]  max_depth=10, min_samples_leaf=3, n_estimators=200, score=0.860, total=   0.4s\n",
      "[CV] max_depth=10, min_samples_leaf=3, n_estimators=200 ..............\n",
      "[CV]  max_depth=10, min_samples_leaf=3, n_estimators=200, score=0.850, total=   0.4s\n",
      "[CV] max_depth=10, min_samples_leaf=3, n_estimators=200 ..............\n",
      "[CV]  max_depth=10, min_samples_leaf=3, n_estimators=200, score=0.858, total=   0.4s\n",
      "[CV] max_depth=10, min_samples_leaf=3, n_estimators=200 ..............\n"
     ]
    },
    {
     "name": "stdout",
     "output_type": "stream",
     "text": [
      "[CV]  max_depth=10, min_samples_leaf=3, n_estimators=200, score=0.858, total=   0.4s\n",
      "[CV] max_depth=10, min_samples_leaf=3, n_estimators=200 ..............\n",
      "[CV]  max_depth=10, min_samples_leaf=3, n_estimators=200, score=0.850, total=   0.4s\n",
      "[CV] max_depth=10, min_samples_leaf=3, n_estimators=250 ..............\n",
      "[CV]  max_depth=10, min_samples_leaf=3, n_estimators=250, score=0.855, total=   0.5s\n",
      "[CV] max_depth=10, min_samples_leaf=3, n_estimators=250 ..............\n",
      "[CV]  max_depth=10, min_samples_leaf=3, n_estimators=250, score=0.847, total=   0.5s\n",
      "[CV] max_depth=10, min_samples_leaf=3, n_estimators=250 ..............\n",
      "[CV]  max_depth=10, min_samples_leaf=3, n_estimators=250, score=0.859, total=   0.5s\n",
      "[CV] max_depth=10, min_samples_leaf=3, n_estimators=250 ..............\n",
      "[CV]  max_depth=10, min_samples_leaf=3, n_estimators=250, score=0.855, total=   0.5s\n",
      "[CV] max_depth=10, min_samples_leaf=3, n_estimators=250 ..............\n",
      "[CV]  max_depth=10, min_samples_leaf=3, n_estimators=250, score=0.846, total=   0.5s\n",
      "[CV] max_depth=10, min_samples_leaf=3, n_estimators=300 ..............\n",
      "[CV]  max_depth=10, min_samples_leaf=3, n_estimators=300, score=0.864, total=   0.6s\n",
      "[CV] max_depth=10, min_samples_leaf=3, n_estimators=300 ..............\n",
      "[CV]  max_depth=10, min_samples_leaf=3, n_estimators=300, score=0.850, total=   0.6s\n",
      "[CV] max_depth=10, min_samples_leaf=3, n_estimators=300 ..............\n",
      "[CV]  max_depth=10, min_samples_leaf=3, n_estimators=300, score=0.860, total=   0.6s\n",
      "[CV] max_depth=10, min_samples_leaf=3, n_estimators=300 ..............\n",
      "[CV]  max_depth=10, min_samples_leaf=3, n_estimators=300, score=0.854, total=   0.6s\n",
      "[CV] max_depth=10, min_samples_leaf=3, n_estimators=300 ..............\n",
      "[CV]  max_depth=10, min_samples_leaf=3, n_estimators=300, score=0.849, total=   0.6s\n",
      "[CV] max_depth=10, min_samples_leaf=4, n_estimators=150 ..............\n",
      "[CV]  max_depth=10, min_samples_leaf=4, n_estimators=150, score=0.853, total=   0.3s\n",
      "[CV] max_depth=10, min_samples_leaf=4, n_estimators=150 ..............\n",
      "[CV]  max_depth=10, min_samples_leaf=4, n_estimators=150, score=0.846, total=   0.3s\n",
      "[CV] max_depth=10, min_samples_leaf=4, n_estimators=150 ..............\n",
      "[CV]  max_depth=10, min_samples_leaf=4, n_estimators=150, score=0.856, total=   0.3s\n",
      "[CV] max_depth=10, min_samples_leaf=4, n_estimators=150 ..............\n",
      "[CV]  max_depth=10, min_samples_leaf=4, n_estimators=150, score=0.852, total=   0.3s\n",
      "[CV] max_depth=10, min_samples_leaf=4, n_estimators=150 ..............\n",
      "[CV]  max_depth=10, min_samples_leaf=4, n_estimators=150, score=0.846, total=   0.3s\n",
      "[CV] max_depth=10, min_samples_leaf=4, n_estimators=200 ..............\n",
      "[CV]  max_depth=10, min_samples_leaf=4, n_estimators=200, score=0.862, total=   0.4s\n",
      "[CV] max_depth=10, min_samples_leaf=4, n_estimators=200 ..............\n",
      "[CV]  max_depth=10, min_samples_leaf=4, n_estimators=200, score=0.851, total=   0.4s\n",
      "[CV] max_depth=10, min_samples_leaf=4, n_estimators=200 ..............\n",
      "[CV]  max_depth=10, min_samples_leaf=4, n_estimators=200, score=0.858, total=   0.4s\n",
      "[CV] max_depth=10, min_samples_leaf=4, n_estimators=200 ..............\n",
      "[CV]  max_depth=10, min_samples_leaf=4, n_estimators=200, score=0.849, total=   0.4s\n",
      "[CV] max_depth=10, min_samples_leaf=4, n_estimators=200 ..............\n",
      "[CV]  max_depth=10, min_samples_leaf=4, n_estimators=200, score=0.846, total=   0.4s\n",
      "[CV] max_depth=10, min_samples_leaf=4, n_estimators=250 ..............\n",
      "[CV]  max_depth=10, min_samples_leaf=4, n_estimators=250, score=0.857, total=   0.5s\n",
      "[CV] max_depth=10, min_samples_leaf=4, n_estimators=250 ..............\n",
      "[CV]  max_depth=10, min_samples_leaf=4, n_estimators=250, score=0.847, total=   0.5s\n",
      "[CV] max_depth=10, min_samples_leaf=4, n_estimators=250 ..............\n",
      "[CV]  max_depth=10, min_samples_leaf=4, n_estimators=250, score=0.859, total=   0.5s\n",
      "[CV] max_depth=10, min_samples_leaf=4, n_estimators=250 ..............\n",
      "[CV]  max_depth=10, min_samples_leaf=4, n_estimators=250, score=0.855, total=   0.5s\n",
      "[CV] max_depth=10, min_samples_leaf=4, n_estimators=250 ..............\n",
      "[CV]  max_depth=10, min_samples_leaf=4, n_estimators=250, score=0.847, total=   0.6s\n",
      "[CV] max_depth=10, min_samples_leaf=4, n_estimators=300 ..............\n",
      "[CV]  max_depth=10, min_samples_leaf=4, n_estimators=300, score=0.854, total=   0.8s\n",
      "[CV] max_depth=10, min_samples_leaf=4, n_estimators=300 ..............\n",
      "[CV]  max_depth=10, min_samples_leaf=4, n_estimators=300, score=0.846, total=   0.8s\n",
      "[CV] max_depth=10, min_samples_leaf=4, n_estimators=300 ..............\n",
      "[CV]  max_depth=10, min_samples_leaf=4, n_estimators=300, score=0.858, total=   0.7s\n",
      "[CV] max_depth=10, min_samples_leaf=4, n_estimators=300 ..............\n",
      "[CV]  max_depth=10, min_samples_leaf=4, n_estimators=300, score=0.856, total=   0.7s\n",
      "[CV] max_depth=10, min_samples_leaf=4, n_estimators=300 ..............\n",
      "[CV]  max_depth=10, min_samples_leaf=4, n_estimators=300, score=0.847, total=   0.8s\n",
      "[CV] max_depth=10, min_samples_leaf=5, n_estimators=150 ..............\n",
      "[CV]  max_depth=10, min_samples_leaf=5, n_estimators=150, score=0.854, total=   0.4s\n",
      "[CV] max_depth=10, min_samples_leaf=5, n_estimators=150 ..............\n",
      "[CV]  max_depth=10, min_samples_leaf=5, n_estimators=150, score=0.852, total=   0.4s\n",
      "[CV] max_depth=10, min_samples_leaf=5, n_estimators=150 ..............\n",
      "[CV]  max_depth=10, min_samples_leaf=5, n_estimators=150, score=0.860, total=   0.4s\n",
      "[CV] max_depth=10, min_samples_leaf=5, n_estimators=150 ..............\n",
      "[CV]  max_depth=10, min_samples_leaf=5, n_estimators=150, score=0.854, total=   0.4s\n",
      "[CV] max_depth=10, min_samples_leaf=5, n_estimators=150 ..............\n",
      "[CV]  max_depth=10, min_samples_leaf=5, n_estimators=150, score=0.846, total=   0.4s\n",
      "[CV] max_depth=10, min_samples_leaf=5, n_estimators=200 ..............\n",
      "[CV]  max_depth=10, min_samples_leaf=5, n_estimators=200, score=0.860, total=   0.5s\n",
      "[CV] max_depth=10, min_samples_leaf=5, n_estimators=200 ..............\n",
      "[CV]  max_depth=10, min_samples_leaf=5, n_estimators=200, score=0.846, total=   0.5s\n",
      "[CV] max_depth=10, min_samples_leaf=5, n_estimators=200 ..............\n",
      "[CV]  max_depth=10, min_samples_leaf=5, n_estimators=200, score=0.858, total=   0.5s\n",
      "[CV] max_depth=10, min_samples_leaf=5, n_estimators=200 ..............\n",
      "[CV]  max_depth=10, min_samples_leaf=5, n_estimators=200, score=0.855, total=   0.5s\n",
      "[CV] max_depth=10, min_samples_leaf=5, n_estimators=200 ..............\n",
      "[CV]  max_depth=10, min_samples_leaf=5, n_estimators=200, score=0.846, total=   0.5s\n",
      "[CV] max_depth=10, min_samples_leaf=5, n_estimators=250 ..............\n",
      "[CV]  max_depth=10, min_samples_leaf=5, n_estimators=250, score=0.854, total=   0.5s\n",
      "[CV] max_depth=10, min_samples_leaf=5, n_estimators=250 ..............\n",
      "[CV]  max_depth=10, min_samples_leaf=5, n_estimators=250, score=0.850, total=   0.5s\n",
      "[CV] max_depth=10, min_samples_leaf=5, n_estimators=250 ..............\n",
      "[CV]  max_depth=10, min_samples_leaf=5, n_estimators=250, score=0.855, total=   0.5s\n",
      "[CV] max_depth=10, min_samples_leaf=5, n_estimators=250 ..............\n",
      "[CV]  max_depth=10, min_samples_leaf=5, n_estimators=250, score=0.846, total=   0.5s\n",
      "[CV] max_depth=10, min_samples_leaf=5, n_estimators=250 ..............\n",
      "[CV]  max_depth=10, min_samples_leaf=5, n_estimators=250, score=0.845, total=   0.5s\n",
      "[CV] max_depth=10, min_samples_leaf=5, n_estimators=300 ..............\n",
      "[CV]  max_depth=10, min_samples_leaf=5, n_estimators=300, score=0.854, total=   0.6s\n",
      "[CV] max_depth=10, min_samples_leaf=5, n_estimators=300 ..............\n",
      "[CV]  max_depth=10, min_samples_leaf=5, n_estimators=300, score=0.843, total=   0.6s\n",
      "[CV] max_depth=10, min_samples_leaf=5, n_estimators=300 ..............\n",
      "[CV]  max_depth=10, min_samples_leaf=5, n_estimators=300, score=0.858, total=   0.6s\n",
      "[CV] max_depth=10, min_samples_leaf=5, n_estimators=300 ..............\n",
      "[CV]  max_depth=10, min_samples_leaf=5, n_estimators=300, score=0.854, total=   0.6s\n",
      "[CV] max_depth=10, min_samples_leaf=5, n_estimators=300 ..............\n",
      "[CV]  max_depth=10, min_samples_leaf=5, n_estimators=300, score=0.846, total=   0.6s\n",
      "[CV] max_depth=15, min_samples_leaf=2, n_estimators=150 ..............\n",
      "[CV]  max_depth=15, min_samples_leaf=2, n_estimators=150, score=0.862, total=   0.3s\n",
      "[CV] max_depth=15, min_samples_leaf=2, n_estimators=150 ..............\n"
     ]
    },
    {
     "name": "stdout",
     "output_type": "stream",
     "text": [
      "[CV]  max_depth=15, min_samples_leaf=2, n_estimators=150, score=0.855, total=   0.4s\n",
      "[CV] max_depth=15, min_samples_leaf=2, n_estimators=150 ..............\n",
      "[CV]  max_depth=15, min_samples_leaf=2, n_estimators=150, score=0.856, total=   0.4s\n",
      "[CV] max_depth=15, min_samples_leaf=2, n_estimators=150 ..............\n",
      "[CV]  max_depth=15, min_samples_leaf=2, n_estimators=150, score=0.855, total=   0.4s\n",
      "[CV] max_depth=15, min_samples_leaf=2, n_estimators=150 ..............\n",
      "[CV]  max_depth=15, min_samples_leaf=2, n_estimators=150, score=0.855, total=   0.3s\n",
      "[CV] max_depth=15, min_samples_leaf=2, n_estimators=200 ..............\n",
      "[CV]  max_depth=15, min_samples_leaf=2, n_estimators=200, score=0.864, total=   0.5s\n",
      "[CV] max_depth=15, min_samples_leaf=2, n_estimators=200 ..............\n",
      "[CV]  max_depth=15, min_samples_leaf=2, n_estimators=200, score=0.850, total=   0.5s\n",
      "[CV] max_depth=15, min_samples_leaf=2, n_estimators=200 ..............\n",
      "[CV]  max_depth=15, min_samples_leaf=2, n_estimators=200, score=0.867, total=   0.5s\n",
      "[CV] max_depth=15, min_samples_leaf=2, n_estimators=200 ..............\n",
      "[CV]  max_depth=15, min_samples_leaf=2, n_estimators=200, score=0.855, total=   0.5s\n",
      "[CV] max_depth=15, min_samples_leaf=2, n_estimators=200 ..............\n",
      "[CV]  max_depth=15, min_samples_leaf=2, n_estimators=200, score=0.855, total=   0.5s\n",
      "[CV] max_depth=15, min_samples_leaf=2, n_estimators=250 ..............\n",
      "[CV]  max_depth=15, min_samples_leaf=2, n_estimators=250, score=0.863, total=   0.6s\n",
      "[CV] max_depth=15, min_samples_leaf=2, n_estimators=250 ..............\n",
      "[CV]  max_depth=15, min_samples_leaf=2, n_estimators=250, score=0.854, total=   0.6s\n",
      "[CV] max_depth=15, min_samples_leaf=2, n_estimators=250 ..............\n",
      "[CV]  max_depth=15, min_samples_leaf=2, n_estimators=250, score=0.866, total=   0.6s\n",
      "[CV] max_depth=15, min_samples_leaf=2, n_estimators=250 ..............\n",
      "[CV]  max_depth=15, min_samples_leaf=2, n_estimators=250, score=0.862, total=   0.6s\n",
      "[CV] max_depth=15, min_samples_leaf=2, n_estimators=250 ..............\n",
      "[CV]  max_depth=15, min_samples_leaf=2, n_estimators=250, score=0.851, total=   0.6s\n",
      "[CV] max_depth=15, min_samples_leaf=2, n_estimators=300 ..............\n",
      "[CV]  max_depth=15, min_samples_leaf=2, n_estimators=300, score=0.863, total=   0.7s\n",
      "[CV] max_depth=15, min_samples_leaf=2, n_estimators=300 ..............\n",
      "[CV]  max_depth=15, min_samples_leaf=2, n_estimators=300, score=0.855, total=   0.7s\n",
      "[CV] max_depth=15, min_samples_leaf=2, n_estimators=300 ..............\n",
      "[CV]  max_depth=15, min_samples_leaf=2, n_estimators=300, score=0.860, total=   0.7s\n",
      "[CV] max_depth=15, min_samples_leaf=2, n_estimators=300 ..............\n",
      "[CV]  max_depth=15, min_samples_leaf=2, n_estimators=300, score=0.852, total=   0.7s\n",
      "[CV] max_depth=15, min_samples_leaf=2, n_estimators=300 ..............\n",
      "[CV]  max_depth=15, min_samples_leaf=2, n_estimators=300, score=0.849, total=   0.7s\n",
      "[CV] max_depth=15, min_samples_leaf=3, n_estimators=150 ..............\n",
      "[CV]  max_depth=15, min_samples_leaf=3, n_estimators=150, score=0.860, total=   0.3s\n",
      "[CV] max_depth=15, min_samples_leaf=3, n_estimators=150 ..............\n",
      "[CV]  max_depth=15, min_samples_leaf=3, n_estimators=150, score=0.849, total=   0.3s\n",
      "[CV] max_depth=15, min_samples_leaf=3, n_estimators=150 ..............\n",
      "[CV]  max_depth=15, min_samples_leaf=3, n_estimators=150, score=0.862, total=   0.3s\n",
      "[CV] max_depth=15, min_samples_leaf=3, n_estimators=150 ..............\n",
      "[CV]  max_depth=15, min_samples_leaf=3, n_estimators=150, score=0.855, total=   0.3s\n",
      "[CV] max_depth=15, min_samples_leaf=3, n_estimators=150 ..............\n",
      "[CV]  max_depth=15, min_samples_leaf=3, n_estimators=150, score=0.852, total=   0.3s\n",
      "[CV] max_depth=15, min_samples_leaf=3, n_estimators=200 ..............\n",
      "[CV]  max_depth=15, min_samples_leaf=3, n_estimators=200, score=0.858, total=   0.4s\n",
      "[CV] max_depth=15, min_samples_leaf=3, n_estimators=200 ..............\n",
      "[CV]  max_depth=15, min_samples_leaf=3, n_estimators=200, score=0.855, total=   0.5s\n",
      "[CV] max_depth=15, min_samples_leaf=3, n_estimators=200 ..............\n",
      "[CV]  max_depth=15, min_samples_leaf=3, n_estimators=200, score=0.864, total=   0.4s\n",
      "[CV] max_depth=15, min_samples_leaf=3, n_estimators=200 ..............\n",
      "[CV]  max_depth=15, min_samples_leaf=3, n_estimators=200, score=0.855, total=   0.5s\n",
      "[CV] max_depth=15, min_samples_leaf=3, n_estimators=200 ..............\n",
      "[CV]  max_depth=15, min_samples_leaf=3, n_estimators=200, score=0.845, total=   0.5s\n",
      "[CV] max_depth=15, min_samples_leaf=3, n_estimators=250 ..............\n",
      "[CV]  max_depth=15, min_samples_leaf=3, n_estimators=250, score=0.858, total=   0.6s\n",
      "[CV] max_depth=15, min_samples_leaf=3, n_estimators=250 ..............\n",
      "[CV]  max_depth=15, min_samples_leaf=3, n_estimators=250, score=0.852, total=   0.6s\n",
      "[CV] max_depth=15, min_samples_leaf=3, n_estimators=250 ..............\n",
      "[CV]  max_depth=15, min_samples_leaf=3, n_estimators=250, score=0.863, total=   0.6s\n",
      "[CV] max_depth=15, min_samples_leaf=3, n_estimators=250 ..............\n",
      "[CV]  max_depth=15, min_samples_leaf=3, n_estimators=250, score=0.856, total=   0.6s\n",
      "[CV] max_depth=15, min_samples_leaf=3, n_estimators=250 ..............\n",
      "[CV]  max_depth=15, min_samples_leaf=3, n_estimators=250, score=0.851, total=   0.6s\n",
      "[CV] max_depth=15, min_samples_leaf=3, n_estimators=300 ..............\n",
      "[CV]  max_depth=15, min_samples_leaf=3, n_estimators=300, score=0.860, total=   0.7s\n",
      "[CV] max_depth=15, min_samples_leaf=3, n_estimators=300 ..............\n",
      "[CV]  max_depth=15, min_samples_leaf=3, n_estimators=300, score=0.849, total=   0.7s\n",
      "[CV] max_depth=15, min_samples_leaf=3, n_estimators=300 ..............\n",
      "[CV]  max_depth=15, min_samples_leaf=3, n_estimators=300, score=0.863, total=   0.7s\n",
      "[CV] max_depth=15, min_samples_leaf=3, n_estimators=300 ..............\n",
      "[CV]  max_depth=15, min_samples_leaf=3, n_estimators=300, score=0.855, total=   0.7s\n",
      "[CV] max_depth=15, min_samples_leaf=3, n_estimators=300 ..............\n",
      "[CV]  max_depth=15, min_samples_leaf=3, n_estimators=300, score=0.855, total=   0.7s\n",
      "[CV] max_depth=15, min_samples_leaf=4, n_estimators=150 ..............\n",
      "[CV]  max_depth=15, min_samples_leaf=4, n_estimators=150, score=0.860, total=   0.4s\n",
      "[CV] max_depth=15, min_samples_leaf=4, n_estimators=150 ..............\n",
      "[CV]  max_depth=15, min_samples_leaf=4, n_estimators=150, score=0.850, total=   0.3s\n",
      "[CV] max_depth=15, min_samples_leaf=4, n_estimators=150 ..............\n",
      "[CV]  max_depth=15, min_samples_leaf=4, n_estimators=150, score=0.864, total=   0.3s\n",
      "[CV] max_depth=15, min_samples_leaf=4, n_estimators=150 ..............\n",
      "[CV]  max_depth=15, min_samples_leaf=4, n_estimators=150, score=0.856, total=   0.3s\n",
      "[CV] max_depth=15, min_samples_leaf=4, n_estimators=150 ..............\n",
      "[CV]  max_depth=15, min_samples_leaf=4, n_estimators=150, score=0.851, total=   0.3s\n",
      "[CV] max_depth=15, min_samples_leaf=4, n_estimators=200 ..............\n",
      "[CV]  max_depth=15, min_samples_leaf=4, n_estimators=200, score=0.857, total=   0.5s\n",
      "[CV] max_depth=15, min_samples_leaf=4, n_estimators=200 ..............\n",
      "[CV]  max_depth=15, min_samples_leaf=4, n_estimators=200, score=0.850, total=   0.5s\n",
      "[CV] max_depth=15, min_samples_leaf=4, n_estimators=200 ..............\n",
      "[CV]  max_depth=15, min_samples_leaf=4, n_estimators=200, score=0.859, total=   0.5s\n",
      "[CV] max_depth=15, min_samples_leaf=4, n_estimators=200 ..............\n",
      "[CV]  max_depth=15, min_samples_leaf=4, n_estimators=200, score=0.855, total=   0.5s\n",
      "[CV] max_depth=15, min_samples_leaf=4, n_estimators=200 ..............\n",
      "[CV]  max_depth=15, min_samples_leaf=4, n_estimators=200, score=0.847, total=   0.5s\n",
      "[CV] max_depth=15, min_samples_leaf=4, n_estimators=250 ..............\n",
      "[CV]  max_depth=15, min_samples_leaf=4, n_estimators=250, score=0.859, total=   0.6s\n",
      "[CV] max_depth=15, min_samples_leaf=4, n_estimators=250 ..............\n",
      "[CV]  max_depth=15, min_samples_leaf=4, n_estimators=250, score=0.855, total=   0.6s\n",
      "[CV] max_depth=15, min_samples_leaf=4, n_estimators=250 ..............\n",
      "[CV]  max_depth=15, min_samples_leaf=4, n_estimators=250, score=0.862, total=   0.6s\n",
      "[CV] max_depth=15, min_samples_leaf=4, n_estimators=250 ..............\n",
      "[CV]  max_depth=15, min_samples_leaf=4, n_estimators=250, score=0.855, total=   0.6s\n",
      "[CV] max_depth=15, min_samples_leaf=4, n_estimators=250 ..............\n"
     ]
    },
    {
     "name": "stdout",
     "output_type": "stream",
     "text": [
      "[CV]  max_depth=15, min_samples_leaf=4, n_estimators=250, score=0.851, total=   0.6s\n",
      "[CV] max_depth=15, min_samples_leaf=4, n_estimators=300 ..............\n",
      "[CV]  max_depth=15, min_samples_leaf=4, n_estimators=300, score=0.855, total=   0.7s\n",
      "[CV] max_depth=15, min_samples_leaf=4, n_estimators=300 ..............\n",
      "[CV]  max_depth=15, min_samples_leaf=4, n_estimators=300, score=0.847, total=   0.7s\n",
      "[CV] max_depth=15, min_samples_leaf=4, n_estimators=300 ..............\n",
      "[CV]  max_depth=15, min_samples_leaf=4, n_estimators=300, score=0.858, total=   0.7s\n",
      "[CV] max_depth=15, min_samples_leaf=4, n_estimators=300 ..............\n",
      "[CV]  max_depth=15, min_samples_leaf=4, n_estimators=300, score=0.852, total=   0.7s\n",
      "[CV] max_depth=15, min_samples_leaf=4, n_estimators=300 ..............\n",
      "[CV]  max_depth=15, min_samples_leaf=4, n_estimators=300, score=0.847, total=   0.7s\n",
      "[CV] max_depth=15, min_samples_leaf=5, n_estimators=150 ..............\n",
      "[CV]  max_depth=15, min_samples_leaf=5, n_estimators=150, score=0.857, total=   0.3s\n",
      "[CV] max_depth=15, min_samples_leaf=5, n_estimators=150 ..............\n",
      "[CV]  max_depth=15, min_samples_leaf=5, n_estimators=150, score=0.842, total=   0.3s\n",
      "[CV] max_depth=15, min_samples_leaf=5, n_estimators=150 ..............\n",
      "[CV]  max_depth=15, min_samples_leaf=5, n_estimators=150, score=0.862, total=   0.3s\n",
      "[CV] max_depth=15, min_samples_leaf=5, n_estimators=150 ..............\n",
      "[CV]  max_depth=15, min_samples_leaf=5, n_estimators=150, score=0.852, total=   0.3s\n",
      "[CV] max_depth=15, min_samples_leaf=5, n_estimators=150 ..............\n",
      "[CV]  max_depth=15, min_samples_leaf=5, n_estimators=150, score=0.846, total=   0.3s\n",
      "[CV] max_depth=15, min_samples_leaf=5, n_estimators=200 ..............\n",
      "[CV]  max_depth=15, min_samples_leaf=5, n_estimators=200, score=0.854, total=   0.4s\n",
      "[CV] max_depth=15, min_samples_leaf=5, n_estimators=200 ..............\n",
      "[CV]  max_depth=15, min_samples_leaf=5, n_estimators=200, score=0.849, total=   0.4s\n",
      "[CV] max_depth=15, min_samples_leaf=5, n_estimators=200 ..............\n",
      "[CV]  max_depth=15, min_samples_leaf=5, n_estimators=200, score=0.860, total=   0.4s\n",
      "[CV] max_depth=15, min_samples_leaf=5, n_estimators=200 ..............\n",
      "[CV]  max_depth=15, min_samples_leaf=5, n_estimators=200, score=0.854, total=   0.4s\n",
      "[CV] max_depth=15, min_samples_leaf=5, n_estimators=200 ..............\n",
      "[CV]  max_depth=15, min_samples_leaf=5, n_estimators=200, score=0.847, total=   0.4s\n",
      "[CV] max_depth=15, min_samples_leaf=5, n_estimators=250 ..............\n",
      "[CV]  max_depth=15, min_samples_leaf=5, n_estimators=250, score=0.862, total=   0.6s\n",
      "[CV] max_depth=15, min_samples_leaf=5, n_estimators=250 ..............\n",
      "[CV]  max_depth=15, min_samples_leaf=5, n_estimators=250, score=0.851, total=   0.5s\n",
      "[CV] max_depth=15, min_samples_leaf=5, n_estimators=250 ..............\n",
      "[CV]  max_depth=15, min_samples_leaf=5, n_estimators=250, score=0.864, total=   0.5s\n",
      "[CV] max_depth=15, min_samples_leaf=5, n_estimators=250 ..............\n",
      "[CV]  max_depth=15, min_samples_leaf=5, n_estimators=250, score=0.852, total=   0.5s\n",
      "[CV] max_depth=15, min_samples_leaf=5, n_estimators=250 ..............\n",
      "[CV]  max_depth=15, min_samples_leaf=5, n_estimators=250, score=0.849, total=   0.5s\n",
      "[CV] max_depth=15, min_samples_leaf=5, n_estimators=300 ..............\n",
      "[CV]  max_depth=15, min_samples_leaf=5, n_estimators=300, score=0.857, total=   0.7s\n",
      "[CV] max_depth=15, min_samples_leaf=5, n_estimators=300 ..............\n",
      "[CV]  max_depth=15, min_samples_leaf=5, n_estimators=300, score=0.845, total=   0.7s\n",
      "[CV] max_depth=15, min_samples_leaf=5, n_estimators=300 ..............\n",
      "[CV]  max_depth=15, min_samples_leaf=5, n_estimators=300, score=0.858, total=   0.7s\n",
      "[CV] max_depth=15, min_samples_leaf=5, n_estimators=300 ..............\n",
      "[CV]  max_depth=15, min_samples_leaf=5, n_estimators=300, score=0.858, total=   0.7s\n",
      "[CV] max_depth=15, min_samples_leaf=5, n_estimators=300 ..............\n",
      "[CV]  max_depth=15, min_samples_leaf=5, n_estimators=300, score=0.845, total=   0.7s\n",
      "[CV] max_depth=20, min_samples_leaf=2, n_estimators=150 ..............\n",
      "[CV]  max_depth=20, min_samples_leaf=2, n_estimators=150, score=0.862, total=   0.4s\n",
      "[CV] max_depth=20, min_samples_leaf=2, n_estimators=150 ..............\n",
      "[CV]  max_depth=20, min_samples_leaf=2, n_estimators=150, score=0.854, total=   0.4s\n",
      "[CV] max_depth=20, min_samples_leaf=2, n_estimators=150 ..............\n",
      "[CV]  max_depth=20, min_samples_leaf=2, n_estimators=150, score=0.855, total=   0.4s\n",
      "[CV] max_depth=20, min_samples_leaf=2, n_estimators=150 ..............\n",
      "[CV]  max_depth=20, min_samples_leaf=2, n_estimators=150, score=0.855, total=   0.4s\n",
      "[CV] max_depth=20, min_samples_leaf=2, n_estimators=150 ..............\n",
      "[CV]  max_depth=20, min_samples_leaf=2, n_estimators=150, score=0.851, total=   0.4s\n",
      "[CV] max_depth=20, min_samples_leaf=2, n_estimators=200 ..............\n",
      "[CV]  max_depth=20, min_samples_leaf=2, n_estimators=200, score=0.857, total=   0.5s\n",
      "[CV] max_depth=20, min_samples_leaf=2, n_estimators=200 ..............\n",
      "[CV]  max_depth=20, min_samples_leaf=2, n_estimators=200, score=0.855, total=   0.5s\n",
      "[CV] max_depth=20, min_samples_leaf=2, n_estimators=200 ..............\n",
      "[CV]  max_depth=20, min_samples_leaf=2, n_estimators=200, score=0.860, total=   0.5s\n",
      "[CV] max_depth=20, min_samples_leaf=2, n_estimators=200 ..............\n",
      "[CV]  max_depth=20, min_samples_leaf=2, n_estimators=200, score=0.855, total=   0.5s\n",
      "[CV] max_depth=20, min_samples_leaf=2, n_estimators=200 ..............\n",
      "[CV]  max_depth=20, min_samples_leaf=2, n_estimators=200, score=0.851, total=   0.5s\n",
      "[CV] max_depth=20, min_samples_leaf=2, n_estimators=250 ..............\n",
      "[CV]  max_depth=20, min_samples_leaf=2, n_estimators=250, score=0.864, total=   0.7s\n",
      "[CV] max_depth=20, min_samples_leaf=2, n_estimators=250 ..............\n",
      "[CV]  max_depth=20, min_samples_leaf=2, n_estimators=250, score=0.852, total=   0.6s\n",
      "[CV] max_depth=20, min_samples_leaf=2, n_estimators=250 ..............\n",
      "[CV]  max_depth=20, min_samples_leaf=2, n_estimators=250, score=0.859, total=   0.6s\n",
      "[CV] max_depth=20, min_samples_leaf=2, n_estimators=250 ..............\n",
      "[CV]  max_depth=20, min_samples_leaf=2, n_estimators=250, score=0.858, total=   0.6s\n",
      "[CV] max_depth=20, min_samples_leaf=2, n_estimators=250 ..............\n",
      "[CV]  max_depth=20, min_samples_leaf=2, n_estimators=250, score=0.847, total=   0.7s\n",
      "[CV] max_depth=20, min_samples_leaf=2, n_estimators=300 ..............\n",
      "[CV]  max_depth=20, min_samples_leaf=2, n_estimators=300, score=0.866, total=   0.8s\n",
      "[CV] max_depth=20, min_samples_leaf=2, n_estimators=300 ..............\n",
      "[CV]  max_depth=20, min_samples_leaf=2, n_estimators=300, score=0.854, total=   0.8s\n",
      "[CV] max_depth=20, min_samples_leaf=2, n_estimators=300 ..............\n",
      "[CV]  max_depth=20, min_samples_leaf=2, n_estimators=300, score=0.863, total=   1.1s\n",
      "[CV] max_depth=20, min_samples_leaf=2, n_estimators=300 ..............\n",
      "[CV]  max_depth=20, min_samples_leaf=2, n_estimators=300, score=0.860, total=   0.8s\n",
      "[CV] max_depth=20, min_samples_leaf=2, n_estimators=300 ..............\n",
      "[CV]  max_depth=20, min_samples_leaf=2, n_estimators=300, score=0.847, total=   0.7s\n",
      "[CV] max_depth=20, min_samples_leaf=3, n_estimators=150 ..............\n",
      "[CV]  max_depth=20, min_samples_leaf=3, n_estimators=150, score=0.868, total=   0.4s\n",
      "[CV] max_depth=20, min_samples_leaf=3, n_estimators=150 ..............\n",
      "[CV]  max_depth=20, min_samples_leaf=3, n_estimators=150, score=0.858, total=   0.4s\n",
      "[CV] max_depth=20, min_samples_leaf=3, n_estimators=150 ..............\n",
      "[CV]  max_depth=20, min_samples_leaf=3, n_estimators=150, score=0.856, total=   0.4s\n",
      "[CV] max_depth=20, min_samples_leaf=3, n_estimators=150 ..............\n",
      "[CV]  max_depth=20, min_samples_leaf=3, n_estimators=150, score=0.855, total=   0.4s\n",
      "[CV] max_depth=20, min_samples_leaf=3, n_estimators=150 ..............\n",
      "[CV]  max_depth=20, min_samples_leaf=3, n_estimators=150, score=0.851, total=   0.4s\n",
      "[CV] max_depth=20, min_samples_leaf=3, n_estimators=200 ..............\n",
      "[CV]  max_depth=20, min_samples_leaf=3, n_estimators=200, score=0.858, total=   0.5s\n",
      "[CV] max_depth=20, min_samples_leaf=3, n_estimators=200 ..............\n",
      "[CV]  max_depth=20, min_samples_leaf=3, n_estimators=200, score=0.855, total=   0.5s\n",
      "[CV] max_depth=20, min_samples_leaf=3, n_estimators=200 ..............\n"
     ]
    },
    {
     "name": "stdout",
     "output_type": "stream",
     "text": [
      "[CV]  max_depth=20, min_samples_leaf=3, n_estimators=200, score=0.856, total=   0.5s\n",
      "[CV] max_depth=20, min_samples_leaf=3, n_estimators=200 ..............\n",
      "[CV]  max_depth=20, min_samples_leaf=3, n_estimators=200, score=0.855, total=   0.5s\n",
      "[CV] max_depth=20, min_samples_leaf=3, n_estimators=200 ..............\n",
      "[CV]  max_depth=20, min_samples_leaf=3, n_estimators=200, score=0.850, total=   0.5s\n",
      "[CV] max_depth=20, min_samples_leaf=3, n_estimators=250 ..............\n",
      "[CV]  max_depth=20, min_samples_leaf=3, n_estimators=250, score=0.867, total=   0.6s\n",
      "[CV] max_depth=20, min_samples_leaf=3, n_estimators=250 ..............\n",
      "[CV]  max_depth=20, min_samples_leaf=3, n_estimators=250, score=0.851, total=   0.6s\n",
      "[CV] max_depth=20, min_samples_leaf=3, n_estimators=250 ..............\n",
      "[CV]  max_depth=20, min_samples_leaf=3, n_estimators=250, score=0.866, total=   0.6s\n",
      "[CV] max_depth=20, min_samples_leaf=3, n_estimators=250 ..............\n",
      "[CV]  max_depth=20, min_samples_leaf=3, n_estimators=250, score=0.856, total=   0.6s\n",
      "[CV] max_depth=20, min_samples_leaf=3, n_estimators=250 ..............\n",
      "[CV]  max_depth=20, min_samples_leaf=3, n_estimators=250, score=0.849, total=   0.6s\n",
      "[CV] max_depth=20, min_samples_leaf=3, n_estimators=300 ..............\n",
      "[CV]  max_depth=20, min_samples_leaf=3, n_estimators=300, score=0.863, total=   0.7s\n",
      "[CV] max_depth=20, min_samples_leaf=3, n_estimators=300 ..............\n",
      "[CV]  max_depth=20, min_samples_leaf=3, n_estimators=300, score=0.851, total=   0.7s\n",
      "[CV] max_depth=20, min_samples_leaf=3, n_estimators=300 ..............\n",
      "[CV]  max_depth=20, min_samples_leaf=3, n_estimators=300, score=0.862, total=   0.7s\n",
      "[CV] max_depth=20, min_samples_leaf=3, n_estimators=300 ..............\n",
      "[CV]  max_depth=20, min_samples_leaf=3, n_estimators=300, score=0.858, total=   0.7s\n",
      "[CV] max_depth=20, min_samples_leaf=3, n_estimators=300 ..............\n",
      "[CV]  max_depth=20, min_samples_leaf=3, n_estimators=300, score=0.850, total=   0.7s\n",
      "[CV] max_depth=20, min_samples_leaf=4, n_estimators=150 ..............\n",
      "[CV]  max_depth=20, min_samples_leaf=4, n_estimators=150, score=0.857, total=   0.4s\n",
      "[CV] max_depth=20, min_samples_leaf=4, n_estimators=150 ..............\n",
      "[CV]  max_depth=20, min_samples_leaf=4, n_estimators=150, score=0.846, total=   0.4s\n",
      "[CV] max_depth=20, min_samples_leaf=4, n_estimators=150 ..............\n",
      "[CV]  max_depth=20, min_samples_leaf=4, n_estimators=150, score=0.858, total=   0.4s\n",
      "[CV] max_depth=20, min_samples_leaf=4, n_estimators=150 ..............\n",
      "[CV]  max_depth=20, min_samples_leaf=4, n_estimators=150, score=0.858, total=   0.4s\n",
      "[CV] max_depth=20, min_samples_leaf=4, n_estimators=150 ..............\n",
      "[CV]  max_depth=20, min_samples_leaf=4, n_estimators=150, score=0.849, total=   0.3s\n",
      "[CV] max_depth=20, min_samples_leaf=4, n_estimators=200 ..............\n",
      "[CV]  max_depth=20, min_samples_leaf=4, n_estimators=200, score=0.859, total=   0.5s\n",
      "[CV] max_depth=20, min_samples_leaf=4, n_estimators=200 ..............\n",
      "[CV]  max_depth=20, min_samples_leaf=4, n_estimators=200, score=0.851, total=   0.5s\n",
      "[CV] max_depth=20, min_samples_leaf=4, n_estimators=200 ..............\n",
      "[CV]  max_depth=20, min_samples_leaf=4, n_estimators=200, score=0.859, total=   0.5s\n",
      "[CV] max_depth=20, min_samples_leaf=4, n_estimators=200 ..............\n",
      "[CV]  max_depth=20, min_samples_leaf=4, n_estimators=200, score=0.858, total=   0.5s\n",
      "[CV] max_depth=20, min_samples_leaf=4, n_estimators=200 ..............\n",
      "[CV]  max_depth=20, min_samples_leaf=4, n_estimators=200, score=0.851, total=   0.5s\n",
      "[CV] max_depth=20, min_samples_leaf=4, n_estimators=250 ..............\n",
      "[CV]  max_depth=20, min_samples_leaf=4, n_estimators=250, score=0.859, total=   0.6s\n",
      "[CV] max_depth=20, min_samples_leaf=4, n_estimators=250 ..............\n",
      "[CV]  max_depth=20, min_samples_leaf=4, n_estimators=250, score=0.847, total=   0.6s\n",
      "[CV] max_depth=20, min_samples_leaf=4, n_estimators=250 ..............\n",
      "[CV]  max_depth=20, min_samples_leaf=4, n_estimators=250, score=0.860, total=   0.6s\n",
      "[CV] max_depth=20, min_samples_leaf=4, n_estimators=250 ..............\n",
      "[CV]  max_depth=20, min_samples_leaf=4, n_estimators=250, score=0.856, total=   0.6s\n",
      "[CV] max_depth=20, min_samples_leaf=4, n_estimators=250 ..............\n",
      "[CV]  max_depth=20, min_samples_leaf=4, n_estimators=250, score=0.847, total=   0.6s\n",
      "[CV] max_depth=20, min_samples_leaf=4, n_estimators=300 ..............\n",
      "[CV]  max_depth=20, min_samples_leaf=4, n_estimators=300, score=0.862, total=   0.7s\n",
      "[CV] max_depth=20, min_samples_leaf=4, n_estimators=300 ..............\n",
      "[CV]  max_depth=20, min_samples_leaf=4, n_estimators=300, score=0.846, total=   0.7s\n",
      "[CV] max_depth=20, min_samples_leaf=4, n_estimators=300 ..............\n",
      "[CV]  max_depth=20, min_samples_leaf=4, n_estimators=300, score=0.863, total=   0.7s\n",
      "[CV] max_depth=20, min_samples_leaf=4, n_estimators=300 ..............\n",
      "[CV]  max_depth=20, min_samples_leaf=4, n_estimators=300, score=0.856, total=   0.7s\n",
      "[CV] max_depth=20, min_samples_leaf=4, n_estimators=300 ..............\n",
      "[CV]  max_depth=20, min_samples_leaf=4, n_estimators=300, score=0.855, total=   0.7s\n",
      "[CV] max_depth=20, min_samples_leaf=5, n_estimators=150 ..............\n",
      "[CV]  max_depth=20, min_samples_leaf=5, n_estimators=150, score=0.857, total=   0.4s\n",
      "[CV] max_depth=20, min_samples_leaf=5, n_estimators=150 ..............\n",
      "[CV]  max_depth=20, min_samples_leaf=5, n_estimators=150, score=0.852, total=   0.3s\n",
      "[CV] max_depth=20, min_samples_leaf=5, n_estimators=150 ..............\n",
      "[CV]  max_depth=20, min_samples_leaf=5, n_estimators=150, score=0.859, total=   0.3s\n",
      "[CV] max_depth=20, min_samples_leaf=5, n_estimators=150 ..............\n",
      "[CV]  max_depth=20, min_samples_leaf=5, n_estimators=150, score=0.852, total=   0.3s\n",
      "[CV] max_depth=20, min_samples_leaf=5, n_estimators=150 ..............\n",
      "[CV]  max_depth=20, min_samples_leaf=5, n_estimators=150, score=0.850, total=   0.3s\n",
      "[CV] max_depth=20, min_samples_leaf=5, n_estimators=200 ..............\n",
      "[CV]  max_depth=20, min_samples_leaf=5, n_estimators=200, score=0.851, total=   0.5s\n",
      "[CV] max_depth=20, min_samples_leaf=5, n_estimators=200 ..............\n",
      "[CV]  max_depth=20, min_samples_leaf=5, n_estimators=200, score=0.849, total=   0.5s\n",
      "[CV] max_depth=20, min_samples_leaf=5, n_estimators=200 ..............\n",
      "[CV]  max_depth=20, min_samples_leaf=5, n_estimators=200, score=0.863, total=   0.5s\n",
      "[CV] max_depth=20, min_samples_leaf=5, n_estimators=200 ..............\n",
      "[CV]  max_depth=20, min_samples_leaf=5, n_estimators=200, score=0.856, total=   0.5s\n",
      "[CV] max_depth=20, min_samples_leaf=5, n_estimators=200 ..............\n",
      "[CV]  max_depth=20, min_samples_leaf=5, n_estimators=200, score=0.849, total=   0.5s\n",
      "[CV] max_depth=20, min_samples_leaf=5, n_estimators=250 ..............\n",
      "[CV]  max_depth=20, min_samples_leaf=5, n_estimators=250, score=0.858, total=   0.6s\n",
      "[CV] max_depth=20, min_samples_leaf=5, n_estimators=250 ..............\n",
      "[CV]  max_depth=20, min_samples_leaf=5, n_estimators=250, score=0.845, total=   0.6s\n",
      "[CV] max_depth=20, min_samples_leaf=5, n_estimators=250 ..............\n",
      "[CV]  max_depth=20, min_samples_leaf=5, n_estimators=250, score=0.856, total=   0.6s\n",
      "[CV] max_depth=20, min_samples_leaf=5, n_estimators=250 ..............\n",
      "[CV]  max_depth=20, min_samples_leaf=5, n_estimators=250, score=0.854, total=   0.6s\n",
      "[CV] max_depth=20, min_samples_leaf=5, n_estimators=250 ..............\n",
      "[CV]  max_depth=20, min_samples_leaf=5, n_estimators=250, score=0.849, total=   0.6s\n",
      "[CV] max_depth=20, min_samples_leaf=5, n_estimators=300 ..............\n",
      "[CV]  max_depth=20, min_samples_leaf=5, n_estimators=300, score=0.859, total=   0.7s\n",
      "[CV] max_depth=20, min_samples_leaf=5, n_estimators=300 ..............\n",
      "[CV]  max_depth=20, min_samples_leaf=5, n_estimators=300, score=0.847, total=   0.7s\n",
      "[CV] max_depth=20, min_samples_leaf=5, n_estimators=300 ..............\n",
      "[CV]  max_depth=20, min_samples_leaf=5, n_estimators=300, score=0.856, total=   0.7s\n",
      "[CV] max_depth=20, min_samples_leaf=5, n_estimators=300 ..............\n",
      "[CV]  max_depth=20, min_samples_leaf=5, n_estimators=300, score=0.854, total=   0.7s\n",
      "[CV] max_depth=20, min_samples_leaf=5, n_estimators=300 ..............\n",
      "[CV]  max_depth=20, min_samples_leaf=5, n_estimators=300, score=0.846, total=   0.7s\n",
      "[CV] max_depth=25, min_samples_leaf=2, n_estimators=150 ..............\n"
     ]
    },
    {
     "name": "stdout",
     "output_type": "stream",
     "text": [
      "[CV]  max_depth=25, min_samples_leaf=2, n_estimators=150, score=0.867, total=   0.4s\n",
      "[CV] max_depth=25, min_samples_leaf=2, n_estimators=150 ..............\n",
      "[CV]  max_depth=25, min_samples_leaf=2, n_estimators=150, score=0.846, total=   0.4s\n",
      "[CV] max_depth=25, min_samples_leaf=2, n_estimators=150 ..............\n",
      "[CV]  max_depth=25, min_samples_leaf=2, n_estimators=150, score=0.855, total=   0.4s\n",
      "[CV] max_depth=25, min_samples_leaf=2, n_estimators=150 ..............\n",
      "[CV]  max_depth=25, min_samples_leaf=2, n_estimators=150, score=0.856, total=   0.4s\n",
      "[CV] max_depth=25, min_samples_leaf=2, n_estimators=150 ..............\n",
      "[CV]  max_depth=25, min_samples_leaf=2, n_estimators=150, score=0.850, total=   0.4s\n",
      "[CV] max_depth=25, min_samples_leaf=2, n_estimators=200 ..............\n",
      "[CV]  max_depth=25, min_samples_leaf=2, n_estimators=200, score=0.862, total=   0.6s\n",
      "[CV] max_depth=25, min_samples_leaf=2, n_estimators=200 ..............\n",
      "[CV]  max_depth=25, min_samples_leaf=2, n_estimators=200, score=0.850, total=   0.5s\n",
      "[CV] max_depth=25, min_samples_leaf=2, n_estimators=200 ..............\n",
      "[CV]  max_depth=25, min_samples_leaf=2, n_estimators=200, score=0.856, total=   0.5s\n",
      "[CV] max_depth=25, min_samples_leaf=2, n_estimators=200 ..............\n",
      "[CV]  max_depth=25, min_samples_leaf=2, n_estimators=200, score=0.859, total=   0.5s\n",
      "[CV] max_depth=25, min_samples_leaf=2, n_estimators=200 ..............\n",
      "[CV]  max_depth=25, min_samples_leaf=2, n_estimators=200, score=0.850, total=   0.5s\n",
      "[CV] max_depth=25, min_samples_leaf=2, n_estimators=250 ..............\n",
      "[CV]  max_depth=25, min_samples_leaf=2, n_estimators=250, score=0.864, total=   0.7s\n",
      "[CV] max_depth=25, min_samples_leaf=2, n_estimators=250 ..............\n",
      "[CV]  max_depth=25, min_samples_leaf=2, n_estimators=250, score=0.847, total=   0.7s\n",
      "[CV] max_depth=25, min_samples_leaf=2, n_estimators=250 ..............\n",
      "[CV]  max_depth=25, min_samples_leaf=2, n_estimators=250, score=0.858, total=   0.7s\n",
      "[CV] max_depth=25, min_samples_leaf=2, n_estimators=250 ..............\n",
      "[CV]  max_depth=25, min_samples_leaf=2, n_estimators=250, score=0.859, total=   0.6s\n",
      "[CV] max_depth=25, min_samples_leaf=2, n_estimators=250 ..............\n",
      "[CV]  max_depth=25, min_samples_leaf=2, n_estimators=250, score=0.849, total=   0.7s\n",
      "[CV] max_depth=25, min_samples_leaf=2, n_estimators=300 ..............\n",
      "[CV]  max_depth=25, min_samples_leaf=2, n_estimators=300, score=0.862, total=   0.8s\n",
      "[CV] max_depth=25, min_samples_leaf=2, n_estimators=300 ..............\n",
      "[CV]  max_depth=25, min_samples_leaf=2, n_estimators=300, score=0.846, total=   0.8s\n",
      "[CV] max_depth=25, min_samples_leaf=2, n_estimators=300 ..............\n",
      "[CV]  max_depth=25, min_samples_leaf=2, n_estimators=300, score=0.862, total=   0.8s\n",
      "[CV] max_depth=25, min_samples_leaf=2, n_estimators=300 ..............\n",
      "[CV]  max_depth=25, min_samples_leaf=2, n_estimators=300, score=0.862, total=   0.8s\n",
      "[CV] max_depth=25, min_samples_leaf=2, n_estimators=300 ..............\n",
      "[CV]  max_depth=25, min_samples_leaf=2, n_estimators=300, score=0.852, total=   0.8s\n",
      "[CV] max_depth=25, min_samples_leaf=3, n_estimators=150 ..............\n",
      "[CV]  max_depth=25, min_samples_leaf=3, n_estimators=150, score=0.860, total=   0.4s\n",
      "[CV] max_depth=25, min_samples_leaf=3, n_estimators=150 ..............\n",
      "[CV]  max_depth=25, min_samples_leaf=3, n_estimators=150, score=0.852, total=   0.4s\n",
      "[CV] max_depth=25, min_samples_leaf=3, n_estimators=150 ..............\n",
      "[CV]  max_depth=25, min_samples_leaf=3, n_estimators=150, score=0.863, total=   0.4s\n",
      "[CV] max_depth=25, min_samples_leaf=3, n_estimators=150 ..............\n",
      "[CV]  max_depth=25, min_samples_leaf=3, n_estimators=150, score=0.854, total=   0.4s\n",
      "[CV] max_depth=25, min_samples_leaf=3, n_estimators=150 ..............\n",
      "[CV]  max_depth=25, min_samples_leaf=3, n_estimators=150, score=0.851, total=   0.4s\n",
      "[CV] max_depth=25, min_samples_leaf=3, n_estimators=200 ..............\n",
      "[CV]  max_depth=25, min_samples_leaf=3, n_estimators=200, score=0.859, total=   0.5s\n",
      "[CV] max_depth=25, min_samples_leaf=3, n_estimators=200 ..............\n",
      "[CV]  max_depth=25, min_samples_leaf=3, n_estimators=200, score=0.851, total=   0.5s\n",
      "[CV] max_depth=25, min_samples_leaf=3, n_estimators=200 ..............\n",
      "[CV]  max_depth=25, min_samples_leaf=3, n_estimators=200, score=0.863, total=   0.5s\n",
      "[CV] max_depth=25, min_samples_leaf=3, n_estimators=200 ..............\n",
      "[CV]  max_depth=25, min_samples_leaf=3, n_estimators=200, score=0.855, total=   0.5s\n",
      "[CV] max_depth=25, min_samples_leaf=3, n_estimators=200 ..............\n",
      "[CV]  max_depth=25, min_samples_leaf=3, n_estimators=200, score=0.851, total=   0.5s\n",
      "[CV] max_depth=25, min_samples_leaf=3, n_estimators=250 ..............\n",
      "[CV]  max_depth=25, min_samples_leaf=3, n_estimators=250, score=0.864, total=   0.6s\n",
      "[CV] max_depth=25, min_samples_leaf=3, n_estimators=250 ..............\n",
      "[CV]  max_depth=25, min_samples_leaf=3, n_estimators=250, score=0.851, total=   0.6s\n",
      "[CV] max_depth=25, min_samples_leaf=3, n_estimators=250 ..............\n",
      "[CV]  max_depth=25, min_samples_leaf=3, n_estimators=250, score=0.863, total=   0.6s\n",
      "[CV] max_depth=25, min_samples_leaf=3, n_estimators=250 ..............\n",
      "[CV]  max_depth=25, min_samples_leaf=3, n_estimators=250, score=0.856, total=   0.6s\n",
      "[CV] max_depth=25, min_samples_leaf=3, n_estimators=250 ..............\n",
      "[CV]  max_depth=25, min_samples_leaf=3, n_estimators=250, score=0.847, total=   0.6s\n",
      "[CV] max_depth=25, min_samples_leaf=3, n_estimators=300 ..............\n",
      "[CV]  max_depth=25, min_samples_leaf=3, n_estimators=300, score=0.859, total=   0.7s\n",
      "[CV] max_depth=25, min_samples_leaf=3, n_estimators=300 ..............\n",
      "[CV]  max_depth=25, min_samples_leaf=3, n_estimators=300, score=0.851, total=   0.7s\n",
      "[CV] max_depth=25, min_samples_leaf=3, n_estimators=300 ..............\n",
      "[CV]  max_depth=25, min_samples_leaf=3, n_estimators=300, score=0.862, total=   0.7s\n",
      "[CV] max_depth=25, min_samples_leaf=3, n_estimators=300 ..............\n",
      "[CV]  max_depth=25, min_samples_leaf=3, n_estimators=300, score=0.855, total=   0.7s\n",
      "[CV] max_depth=25, min_samples_leaf=3, n_estimators=300 ..............\n",
      "[CV]  max_depth=25, min_samples_leaf=3, n_estimators=300, score=0.852, total=   0.8s\n",
      "[CV] max_depth=25, min_samples_leaf=4, n_estimators=150 ..............\n",
      "[CV]  max_depth=25, min_samples_leaf=4, n_estimators=150, score=0.855, total=   0.4s\n",
      "[CV] max_depth=25, min_samples_leaf=4, n_estimators=150 ..............\n",
      "[CV]  max_depth=25, min_samples_leaf=4, n_estimators=150, score=0.850, total=   0.4s\n",
      "[CV] max_depth=25, min_samples_leaf=4, n_estimators=150 ..............\n",
      "[CV]  max_depth=25, min_samples_leaf=4, n_estimators=150, score=0.863, total=   0.4s\n",
      "[CV] max_depth=25, min_samples_leaf=4, n_estimators=150 ..............\n",
      "[CV]  max_depth=25, min_samples_leaf=4, n_estimators=150, score=0.855, total=   0.4s\n",
      "[CV] max_depth=25, min_samples_leaf=4, n_estimators=150 ..............\n",
      "[CV]  max_depth=25, min_samples_leaf=4, n_estimators=150, score=0.852, total=   0.4s\n",
      "[CV] max_depth=25, min_samples_leaf=4, n_estimators=200 ..............\n",
      "[CV]  max_depth=25, min_samples_leaf=4, n_estimators=200, score=0.864, total=   0.5s\n",
      "[CV] max_depth=25, min_samples_leaf=4, n_estimators=200 ..............\n",
      "[CV]  max_depth=25, min_samples_leaf=4, n_estimators=200, score=0.851, total=   0.5s\n",
      "[CV] max_depth=25, min_samples_leaf=4, n_estimators=200 ..............\n",
      "[CV]  max_depth=25, min_samples_leaf=4, n_estimators=200, score=0.859, total=   0.5s\n",
      "[CV] max_depth=25, min_samples_leaf=4, n_estimators=200 ..............\n",
      "[CV]  max_depth=25, min_samples_leaf=4, n_estimators=200, score=0.858, total=   0.5s\n",
      "[CV] max_depth=25, min_samples_leaf=4, n_estimators=200 ..............\n",
      "[CV]  max_depth=25, min_samples_leaf=4, n_estimators=200, score=0.851, total=   0.5s\n",
      "[CV] max_depth=25, min_samples_leaf=4, n_estimators=250 ..............\n",
      "[CV]  max_depth=25, min_samples_leaf=4, n_estimators=250, score=0.860, total=   0.6s\n",
      "[CV] max_depth=25, min_samples_leaf=4, n_estimators=250 ..............\n",
      "[CV]  max_depth=25, min_samples_leaf=4, n_estimators=250, score=0.847, total=   0.6s\n",
      "[CV] max_depth=25, min_samples_leaf=4, n_estimators=250 ..............\n",
      "[CV]  max_depth=25, min_samples_leaf=4, n_estimators=250, score=0.864, total=   0.6s\n",
      "[CV] max_depth=25, min_samples_leaf=4, n_estimators=250 ..............\n"
     ]
    },
    {
     "name": "stdout",
     "output_type": "stream",
     "text": [
      "[CV]  max_depth=25, min_samples_leaf=4, n_estimators=250, score=0.860, total=   0.6s\n",
      "[CV] max_depth=25, min_samples_leaf=4, n_estimators=250 ..............\n",
      "[CV]  max_depth=25, min_samples_leaf=4, n_estimators=250, score=0.850, total=   0.6s\n",
      "[CV] max_depth=25, min_samples_leaf=4, n_estimators=300 ..............\n",
      "[CV]  max_depth=25, min_samples_leaf=4, n_estimators=300, score=0.862, total=   0.7s\n",
      "[CV] max_depth=25, min_samples_leaf=4, n_estimators=300 ..............\n",
      "[CV]  max_depth=25, min_samples_leaf=4, n_estimators=300, score=0.851, total=   0.7s\n",
      "[CV] max_depth=25, min_samples_leaf=4, n_estimators=300 ..............\n",
      "[CV]  max_depth=25, min_samples_leaf=4, n_estimators=300, score=0.855, total=   0.7s\n",
      "[CV] max_depth=25, min_samples_leaf=4, n_estimators=300 ..............\n",
      "[CV]  max_depth=25, min_samples_leaf=4, n_estimators=300, score=0.858, total=   0.7s\n",
      "[CV] max_depth=25, min_samples_leaf=4, n_estimators=300 ..............\n",
      "[CV]  max_depth=25, min_samples_leaf=4, n_estimators=300, score=0.846, total=   0.7s\n",
      "[CV] max_depth=25, min_samples_leaf=5, n_estimators=150 ..............\n",
      "[CV]  max_depth=25, min_samples_leaf=5, n_estimators=150, score=0.851, total=   0.3s\n",
      "[CV] max_depth=25, min_samples_leaf=5, n_estimators=150 ..............\n",
      "[CV]  max_depth=25, min_samples_leaf=5, n_estimators=150, score=0.846, total=   0.4s\n",
      "[CV] max_depth=25, min_samples_leaf=5, n_estimators=150 ..............\n",
      "[CV]  max_depth=25, min_samples_leaf=5, n_estimators=150, score=0.855, total=   0.4s\n",
      "[CV] max_depth=25, min_samples_leaf=5, n_estimators=150 ..............\n",
      "[CV]  max_depth=25, min_samples_leaf=5, n_estimators=150, score=0.856, total=   0.4s\n",
      "[CV] max_depth=25, min_samples_leaf=5, n_estimators=150 ..............\n",
      "[CV]  max_depth=25, min_samples_leaf=5, n_estimators=150, score=0.849, total=   0.4s\n",
      "[CV] max_depth=25, min_samples_leaf=5, n_estimators=200 ..............\n",
      "[CV]  max_depth=25, min_samples_leaf=5, n_estimators=200, score=0.855, total=   0.5s\n",
      "[CV] max_depth=25, min_samples_leaf=5, n_estimators=200 ..............\n",
      "[CV]  max_depth=25, min_samples_leaf=5, n_estimators=200, score=0.851, total=   0.5s\n",
      "[CV] max_depth=25, min_samples_leaf=5, n_estimators=200 ..............\n",
      "[CV]  max_depth=25, min_samples_leaf=5, n_estimators=200, score=0.863, total=   0.5s\n",
      "[CV] max_depth=25, min_samples_leaf=5, n_estimators=200 ..............\n",
      "[CV]  max_depth=25, min_samples_leaf=5, n_estimators=200, score=0.852, total=   0.5s\n",
      "[CV] max_depth=25, min_samples_leaf=5, n_estimators=200 ..............\n",
      "[CV]  max_depth=25, min_samples_leaf=5, n_estimators=200, score=0.852, total=   0.5s\n",
      "[CV] max_depth=25, min_samples_leaf=5, n_estimators=250 ..............\n",
      "[CV]  max_depth=25, min_samples_leaf=5, n_estimators=250, score=0.860, total=   0.6s\n",
      "[CV] max_depth=25, min_samples_leaf=5, n_estimators=250 ..............\n",
      "[CV]  max_depth=25, min_samples_leaf=5, n_estimators=250, score=0.846, total=   0.6s\n",
      "[CV] max_depth=25, min_samples_leaf=5, n_estimators=250 ..............\n",
      "[CV]  max_depth=25, min_samples_leaf=5, n_estimators=250, score=0.862, total=   0.6s\n",
      "[CV] max_depth=25, min_samples_leaf=5, n_estimators=250 ..............\n",
      "[CV]  max_depth=25, min_samples_leaf=5, n_estimators=250, score=0.854, total=   0.6s\n",
      "[CV] max_depth=25, min_samples_leaf=5, n_estimators=250 ..............\n",
      "[CV]  max_depth=25, min_samples_leaf=5, n_estimators=250, score=0.849, total=   0.6s\n",
      "[CV] max_depth=25, min_samples_leaf=5, n_estimators=300 ..............\n",
      "[CV]  max_depth=25, min_samples_leaf=5, n_estimators=300, score=0.857, total=   0.7s\n",
      "[CV] max_depth=25, min_samples_leaf=5, n_estimators=300 ..............\n",
      "[CV]  max_depth=25, min_samples_leaf=5, n_estimators=300, score=0.850, total=   0.7s\n",
      "[CV] max_depth=25, min_samples_leaf=5, n_estimators=300 ..............\n",
      "[CV]  max_depth=25, min_samples_leaf=5, n_estimators=300, score=0.859, total=   0.7s\n",
      "[CV] max_depth=25, min_samples_leaf=5, n_estimators=300 ..............\n",
      "[CV]  max_depth=25, min_samples_leaf=5, n_estimators=300, score=0.856, total=   0.7s\n",
      "[CV] max_depth=25, min_samples_leaf=5, n_estimators=300 ..............\n",
      "[CV]  max_depth=25, min_samples_leaf=5, n_estimators=300, score=0.850, total=   0.7s\n",
      "[CV] max_depth=30, min_samples_leaf=2, n_estimators=150 ..............\n",
      "[CV]  max_depth=30, min_samples_leaf=2, n_estimators=150, score=0.857, total=   0.4s\n",
      "[CV] max_depth=30, min_samples_leaf=2, n_estimators=150 ..............\n",
      "[CV]  max_depth=30, min_samples_leaf=2, n_estimators=150, score=0.845, total=   0.4s\n",
      "[CV] max_depth=30, min_samples_leaf=2, n_estimators=150 ..............\n",
      "[CV]  max_depth=30, min_samples_leaf=2, n_estimators=150, score=0.856, total=   0.4s\n",
      "[CV] max_depth=30, min_samples_leaf=2, n_estimators=150 ..............\n",
      "[CV]  max_depth=30, min_samples_leaf=2, n_estimators=150, score=0.860, total=   0.4s\n",
      "[CV] max_depth=30, min_samples_leaf=2, n_estimators=150 ..............\n",
      "[CV]  max_depth=30, min_samples_leaf=2, n_estimators=150, score=0.854, total=   0.4s\n",
      "[CV] max_depth=30, min_samples_leaf=2, n_estimators=200 ..............\n",
      "[CV]  max_depth=30, min_samples_leaf=2, n_estimators=200, score=0.855, total=   0.6s\n",
      "[CV] max_depth=30, min_samples_leaf=2, n_estimators=200 ..............\n",
      "[CV]  max_depth=30, min_samples_leaf=2, n_estimators=200, score=0.847, total=   0.6s\n",
      "[CV] max_depth=30, min_samples_leaf=2, n_estimators=200 ..............\n",
      "[CV]  max_depth=30, min_samples_leaf=2, n_estimators=200, score=0.860, total=   0.6s\n",
      "[CV] max_depth=30, min_samples_leaf=2, n_estimators=200 ..............\n",
      "[CV]  max_depth=30, min_samples_leaf=2, n_estimators=200, score=0.858, total=   0.6s\n",
      "[CV] max_depth=30, min_samples_leaf=2, n_estimators=200 ..............\n",
      "[CV]  max_depth=30, min_samples_leaf=2, n_estimators=200, score=0.849, total=   0.6s\n",
      "[CV] max_depth=30, min_samples_leaf=2, n_estimators=250 ..............\n",
      "[CV]  max_depth=30, min_samples_leaf=2, n_estimators=250, score=0.862, total=   0.7s\n",
      "[CV] max_depth=30, min_samples_leaf=2, n_estimators=250 ..............\n",
      "[CV]  max_depth=30, min_samples_leaf=2, n_estimators=250, score=0.849, total=   0.7s\n",
      "[CV] max_depth=30, min_samples_leaf=2, n_estimators=250 ..............\n",
      "[CV]  max_depth=30, min_samples_leaf=2, n_estimators=250, score=0.860, total=   0.6s\n",
      "[CV] max_depth=30, min_samples_leaf=2, n_estimators=250 ..............\n",
      "[CV]  max_depth=30, min_samples_leaf=2, n_estimators=250, score=0.852, total=   0.6s\n",
      "[CV] max_depth=30, min_samples_leaf=2, n_estimators=250 ..............\n",
      "[CV]  max_depth=30, min_samples_leaf=2, n_estimators=250, score=0.852, total=   0.6s\n",
      "[CV] max_depth=30, min_samples_leaf=2, n_estimators=300 ..............\n",
      "[CV]  max_depth=30, min_samples_leaf=2, n_estimators=300, score=0.862, total=   0.8s\n",
      "[CV] max_depth=30, min_samples_leaf=2, n_estimators=300 ..............\n",
      "[CV]  max_depth=30, min_samples_leaf=2, n_estimators=300, score=0.849, total=   0.8s\n",
      "[CV] max_depth=30, min_samples_leaf=2, n_estimators=300 ..............\n",
      "[CV]  max_depth=30, min_samples_leaf=2, n_estimators=300, score=0.858, total=   0.8s\n",
      "[CV] max_depth=30, min_samples_leaf=2, n_estimators=300 ..............\n",
      "[CV]  max_depth=30, min_samples_leaf=2, n_estimators=300, score=0.862, total=   0.8s\n",
      "[CV] max_depth=30, min_samples_leaf=2, n_estimators=300 ..............\n",
      "[CV]  max_depth=30, min_samples_leaf=2, n_estimators=300, score=0.859, total=   0.8s\n",
      "[CV] max_depth=30, min_samples_leaf=3, n_estimators=150 ..............\n",
      "[CV]  max_depth=30, min_samples_leaf=3, n_estimators=150, score=0.864, total=   0.4s\n",
      "[CV] max_depth=30, min_samples_leaf=3, n_estimators=150 ..............\n",
      "[CV]  max_depth=30, min_samples_leaf=3, n_estimators=150, score=0.855, total=   0.4s\n",
      "[CV] max_depth=30, min_samples_leaf=3, n_estimators=150 ..............\n",
      "[CV]  max_depth=30, min_samples_leaf=3, n_estimators=150, score=0.863, total=   0.4s\n",
      "[CV] max_depth=30, min_samples_leaf=3, n_estimators=150 ..............\n",
      "[CV]  max_depth=30, min_samples_leaf=3, n_estimators=150, score=0.855, total=   0.4s\n",
      "[CV] max_depth=30, min_samples_leaf=3, n_estimators=150 ..............\n",
      "[CV]  max_depth=30, min_samples_leaf=3, n_estimators=150, score=0.851, total=   0.4s\n",
      "[CV] max_depth=30, min_samples_leaf=3, n_estimators=200 ..............\n",
      "[CV]  max_depth=30, min_samples_leaf=3, n_estimators=200, score=0.864, total=   0.5s\n",
      "[CV] max_depth=30, min_samples_leaf=3, n_estimators=200 ..............\n"
     ]
    },
    {
     "name": "stdout",
     "output_type": "stream",
     "text": [
      "[CV]  max_depth=30, min_samples_leaf=3, n_estimators=200, score=0.854, total=   0.5s\n",
      "[CV] max_depth=30, min_samples_leaf=3, n_estimators=200 ..............\n",
      "[CV]  max_depth=30, min_samples_leaf=3, n_estimators=200, score=0.859, total=   0.5s\n",
      "[CV] max_depth=30, min_samples_leaf=3, n_estimators=200 ..............\n",
      "[CV]  max_depth=30, min_samples_leaf=3, n_estimators=200, score=0.854, total=   0.5s\n",
      "[CV] max_depth=30, min_samples_leaf=3, n_estimators=200 ..............\n",
      "[CV]  max_depth=30, min_samples_leaf=3, n_estimators=200, score=0.849, total=   0.5s\n",
      "[CV] max_depth=30, min_samples_leaf=3, n_estimators=250 ..............\n",
      "[CV]  max_depth=30, min_samples_leaf=3, n_estimators=250, score=0.867, total=   0.6s\n",
      "[CV] max_depth=30, min_samples_leaf=3, n_estimators=250 ..............\n",
      "[CV]  max_depth=30, min_samples_leaf=3, n_estimators=250, score=0.851, total=   0.6s\n",
      "[CV] max_depth=30, min_samples_leaf=3, n_estimators=250 ..............\n",
      "[CV]  max_depth=30, min_samples_leaf=3, n_estimators=250, score=0.860, total=   0.6s\n",
      "[CV] max_depth=30, min_samples_leaf=3, n_estimators=250 ..............\n",
      "[CV]  max_depth=30, min_samples_leaf=3, n_estimators=250, score=0.862, total=   0.6s\n",
      "[CV] max_depth=30, min_samples_leaf=3, n_estimators=250 ..............\n",
      "[CV]  max_depth=30, min_samples_leaf=3, n_estimators=250, score=0.851, total=   0.6s\n",
      "[CV] max_depth=30, min_samples_leaf=3, n_estimators=300 ..............\n",
      "[CV]  max_depth=30, min_samples_leaf=3, n_estimators=300, score=0.863, total=   0.7s\n",
      "[CV] max_depth=30, min_samples_leaf=3, n_estimators=300 ..............\n",
      "[CV]  max_depth=30, min_samples_leaf=3, n_estimators=300, score=0.851, total=   0.7s\n",
      "[CV] max_depth=30, min_samples_leaf=3, n_estimators=300 ..............\n",
      "[CV]  max_depth=30, min_samples_leaf=3, n_estimators=300, score=0.862, total=   0.7s\n",
      "[CV] max_depth=30, min_samples_leaf=3, n_estimators=300 ..............\n",
      "[CV]  max_depth=30, min_samples_leaf=3, n_estimators=300, score=0.863, total=   0.7s\n",
      "[CV] max_depth=30, min_samples_leaf=3, n_estimators=300 ..............\n",
      "[CV]  max_depth=30, min_samples_leaf=3, n_estimators=300, score=0.849, total=   0.7s\n",
      "[CV] max_depth=30, min_samples_leaf=4, n_estimators=150 ..............\n",
      "[CV]  max_depth=30, min_samples_leaf=4, n_estimators=150, score=0.859, total=   0.4s\n",
      "[CV] max_depth=30, min_samples_leaf=4, n_estimators=150 ..............\n",
      "[CV]  max_depth=30, min_samples_leaf=4, n_estimators=150, score=0.845, total=   0.4s\n",
      "[CV] max_depth=30, min_samples_leaf=4, n_estimators=150 ..............\n",
      "[CV]  max_depth=30, min_samples_leaf=4, n_estimators=150, score=0.856, total=   0.3s\n",
      "[CV] max_depth=30, min_samples_leaf=4, n_estimators=150 ..............\n",
      "[CV]  max_depth=30, min_samples_leaf=4, n_estimators=150, score=0.855, total=   0.3s\n",
      "[CV] max_depth=30, min_samples_leaf=4, n_estimators=150 ..............\n",
      "[CV]  max_depth=30, min_samples_leaf=4, n_estimators=150, score=0.855, total=   0.4s\n",
      "[CV] max_depth=30, min_samples_leaf=4, n_estimators=200 ..............\n",
      "[CV]  max_depth=30, min_samples_leaf=4, n_estimators=200, score=0.862, total=   0.5s\n",
      "[CV] max_depth=30, min_samples_leaf=4, n_estimators=200 ..............\n",
      "[CV]  max_depth=30, min_samples_leaf=4, n_estimators=200, score=0.843, total=   0.5s\n",
      "[CV] max_depth=30, min_samples_leaf=4, n_estimators=200 ..............\n",
      "[CV]  max_depth=30, min_samples_leaf=4, n_estimators=200, score=0.864, total=   0.5s\n",
      "[CV] max_depth=30, min_samples_leaf=4, n_estimators=200 ..............\n",
      "[CV]  max_depth=30, min_samples_leaf=4, n_estimators=200, score=0.852, total=   0.5s\n",
      "[CV] max_depth=30, min_samples_leaf=4, n_estimators=200 ..............\n",
      "[CV]  max_depth=30, min_samples_leaf=4, n_estimators=200, score=0.850, total=   0.5s\n",
      "[CV] max_depth=30, min_samples_leaf=4, n_estimators=250 ..............\n",
      "[CV]  max_depth=30, min_samples_leaf=4, n_estimators=250, score=0.860, total=   0.6s\n",
      "[CV] max_depth=30, min_samples_leaf=4, n_estimators=250 ..............\n",
      "[CV]  max_depth=30, min_samples_leaf=4, n_estimators=250, score=0.849, total=   0.6s\n",
      "[CV] max_depth=30, min_samples_leaf=4, n_estimators=250 ..............\n",
      "[CV]  max_depth=30, min_samples_leaf=4, n_estimators=250, score=0.859, total=   0.6s\n",
      "[CV] max_depth=30, min_samples_leaf=4, n_estimators=250 ..............\n",
      "[CV]  max_depth=30, min_samples_leaf=4, n_estimators=250, score=0.855, total=   0.6s\n",
      "[CV] max_depth=30, min_samples_leaf=4, n_estimators=250 ..............\n",
      "[CV]  max_depth=30, min_samples_leaf=4, n_estimators=250, score=0.849, total=   0.6s\n",
      "[CV] max_depth=30, min_samples_leaf=4, n_estimators=300 ..............\n",
      "[CV]  max_depth=30, min_samples_leaf=4, n_estimators=300, score=0.862, total=   0.7s\n",
      "[CV] max_depth=30, min_samples_leaf=4, n_estimators=300 ..............\n",
      "[CV]  max_depth=30, min_samples_leaf=4, n_estimators=300, score=0.850, total=   0.7s\n",
      "[CV] max_depth=30, min_samples_leaf=4, n_estimators=300 ..............\n",
      "[CV]  max_depth=30, min_samples_leaf=4, n_estimators=300, score=0.859, total=   0.7s\n",
      "[CV] max_depth=30, min_samples_leaf=4, n_estimators=300 ..............\n",
      "[CV]  max_depth=30, min_samples_leaf=4, n_estimators=300, score=0.854, total=   0.7s\n",
      "[CV] max_depth=30, min_samples_leaf=4, n_estimators=300 ..............\n",
      "[CV]  max_depth=30, min_samples_leaf=4, n_estimators=300, score=0.850, total=   0.7s\n",
      "[CV] max_depth=30, min_samples_leaf=5, n_estimators=150 ..............\n",
      "[CV]  max_depth=30, min_samples_leaf=5, n_estimators=150, score=0.857, total=   0.3s\n",
      "[CV] max_depth=30, min_samples_leaf=5, n_estimators=150 ..............\n",
      "[CV]  max_depth=30, min_samples_leaf=5, n_estimators=150, score=0.849, total=   0.4s\n",
      "[CV] max_depth=30, min_samples_leaf=5, n_estimators=150 ..............\n",
      "[CV]  max_depth=30, min_samples_leaf=5, n_estimators=150, score=0.858, total=   0.4s\n",
      "[CV] max_depth=30, min_samples_leaf=5, n_estimators=150 ..............\n",
      "[CV]  max_depth=30, min_samples_leaf=5, n_estimators=150, score=0.858, total=   0.3s\n",
      "[CV] max_depth=30, min_samples_leaf=5, n_estimators=150 ..............\n",
      "[CV]  max_depth=30, min_samples_leaf=5, n_estimators=150, score=0.852, total=   0.4s\n",
      "[CV] max_depth=30, min_samples_leaf=5, n_estimators=200 ..............\n",
      "[CV]  max_depth=30, min_samples_leaf=5, n_estimators=200, score=0.859, total=   0.5s\n",
      "[CV] max_depth=30, min_samples_leaf=5, n_estimators=200 ..............\n",
      "[CV]  max_depth=30, min_samples_leaf=5, n_estimators=200, score=0.849, total=   0.5s\n",
      "[CV] max_depth=30, min_samples_leaf=5, n_estimators=200 ..............\n",
      "[CV]  max_depth=30, min_samples_leaf=5, n_estimators=200, score=0.862, total=   0.5s\n",
      "[CV] max_depth=30, min_samples_leaf=5, n_estimators=200 ..............\n",
      "[CV]  max_depth=30, min_samples_leaf=5, n_estimators=200, score=0.852, total=   0.5s\n",
      "[CV] max_depth=30, min_samples_leaf=5, n_estimators=200 ..............\n",
      "[CV]  max_depth=30, min_samples_leaf=5, n_estimators=200, score=0.847, total=   0.5s\n",
      "[CV] max_depth=30, min_samples_leaf=5, n_estimators=250 ..............\n",
      "[CV]  max_depth=30, min_samples_leaf=5, n_estimators=250, score=0.858, total=   0.6s\n",
      "[CV] max_depth=30, min_samples_leaf=5, n_estimators=250 ..............\n",
      "[CV]  max_depth=30, min_samples_leaf=5, n_estimators=250, score=0.846, total=   0.6s\n",
      "[CV] max_depth=30, min_samples_leaf=5, n_estimators=250 ..............\n",
      "[CV]  max_depth=30, min_samples_leaf=5, n_estimators=250, score=0.863, total=   0.6s\n",
      "[CV] max_depth=30, min_samples_leaf=5, n_estimators=250 ..............\n",
      "[CV]  max_depth=30, min_samples_leaf=5, n_estimators=250, score=0.855, total=   0.6s\n",
      "[CV] max_depth=30, min_samples_leaf=5, n_estimators=250 ..............\n",
      "[CV]  max_depth=30, min_samples_leaf=5, n_estimators=250, score=0.849, total=   0.6s\n",
      "[CV] max_depth=30, min_samples_leaf=5, n_estimators=300 ..............\n",
      "[CV]  max_depth=30, min_samples_leaf=5, n_estimators=300, score=0.859, total=   0.7s\n",
      "[CV] max_depth=30, min_samples_leaf=5, n_estimators=300 ..............\n",
      "[CV]  max_depth=30, min_samples_leaf=5, n_estimators=300, score=0.849, total=   0.7s\n",
      "[CV] max_depth=30, min_samples_leaf=5, n_estimators=300 ..............\n",
      "[CV]  max_depth=30, min_samples_leaf=5, n_estimators=300, score=0.859, total=   0.7s\n",
      "[CV] max_depth=30, min_samples_leaf=5, n_estimators=300 ..............\n",
      "[CV]  max_depth=30, min_samples_leaf=5, n_estimators=300, score=0.855, total=   0.7s\n",
      "[CV] max_depth=30, min_samples_leaf=5, n_estimators=300 ..............\n"
     ]
    },
    {
     "name": "stdout",
     "output_type": "stream",
     "text": [
      "[CV]  max_depth=30, min_samples_leaf=5, n_estimators=300, score=0.851, total=   0.7s\n"
     ]
    },
    {
     "name": "stderr",
     "output_type": "stream",
     "text": [
      "[Parallel(n_jobs=1)]: Done 480 out of 480 | elapsed:  4.0min finished\n"
     ]
    },
    {
     "data": {
      "text/plain": [
       "GridSearchCV(estimator=RandomForestClassifier(),\n",
       "             param_grid={'max_depth': [5, 10, 15, 20, 25, 30],\n",
       "                         'min_samples_leaf': [2, 3, 4, 5],\n",
       "                         'n_estimators': [150, 200, 250, 300]},\n",
       "             verbose=3)"
      ]
     },
     "execution_count": 283,
     "metadata": {},
     "output_type": "execute_result"
    }
   ],
   "source": [
    "grid.fit(X_train,y_train)"
   ]
  },
  {
   "cell_type": "code",
   "execution_count": 284,
   "metadata": {},
   "outputs": [
    {
     "data": {
      "text/plain": [
       "{'max_depth': 15, 'min_samples_leaf': 2, 'n_estimators': 250}"
      ]
     },
     "execution_count": 284,
     "metadata": {},
     "output_type": "execute_result"
    }
   ],
   "source": [
    "grid.best_params_"
   ]
  },
  {
   "cell_type": "code",
   "execution_count": 285,
   "metadata": {},
   "outputs": [],
   "source": [
    "rf1 = RandomForestClassifier(n_estimators=250,criterion='gini',max_depth=15,min_samples_split=2,min_samples_leaf=2,\n",
    "    min_weight_fraction_leaf=0.0,max_features='auto',max_leaf_nodes=None,min_impurity_decrease=0.0,min_impurity_split=None,\n",
    "    bootstrap=True,\n",
    "    oob_score=False,\n",
    "    n_jobs=None,\n",
    "    random_state=None,\n",
    "    verbose=0,\n",
    "    warm_start=False,\n",
    "    class_weight=None,\n",
    "    ccp_alpha=0.0,\n",
    "    max_samples=None,\n",
    ")"
   ]
  },
  {
   "cell_type": "code",
   "execution_count": 286,
   "metadata": {},
   "outputs": [
    {
     "data": {
      "text/plain": [
       "RandomForestClassifier(max_depth=15, min_samples_leaf=2, n_estimators=250)"
      ]
     },
     "execution_count": 286,
     "metadata": {},
     "output_type": "execute_result"
    }
   ],
   "source": [
    "rf1.fit(X_train,y_train)"
   ]
  },
  {
   "cell_type": "code",
   "execution_count": 287,
   "metadata": {},
   "outputs": [],
   "source": [
    "predict_rf1 = rf1.predict(X_test)"
   ]
  },
  {
   "cell_type": "markdown",
   "metadata": {},
   "source": [
    "    Accuracy test for Random Forest after applying Grid Search"
   ]
  },
  {
   "cell_type": "code",
   "execution_count": 288,
   "metadata": {},
   "outputs": [
    {
     "name": "stdout",
     "output_type": "stream",
     "text": [
      "0.8308977035490606\n"
     ]
    }
   ],
   "source": [
    "print(accuracy_score(y_test,predict_rf1))"
   ]
  },
  {
   "cell_type": "code",
   "execution_count": 289,
   "metadata": {},
   "outputs": [
    {
     "name": "stdout",
     "output_type": "stream",
     "text": [
      "[[678  65]\n",
      " [ 97 118]]\n"
     ]
    }
   ],
   "source": [
    "print(confusion_matrix(y_test,predict_rf1))"
   ]
  },
  {
   "cell_type": "code",
   "execution_count": 290,
   "metadata": {},
   "outputs": [
    {
     "name": "stdout",
     "output_type": "stream",
     "text": [
      "              precision    recall  f1-score   support\n",
      "\n",
      "       <=50K       0.87      0.91      0.89       743\n",
      "        >50K       0.64      0.55      0.59       215\n",
      "\n",
      "    accuracy                           0.83       958\n",
      "   macro avg       0.76      0.73      0.74       958\n",
      "weighted avg       0.82      0.83      0.83       958\n",
      "\n"
     ]
    }
   ],
   "source": [
    "print(classification_report(y_test,predict_rf1))"
   ]
  },
  {
   "cell_type": "markdown",
   "metadata": {},
   "source": [
    "KNN"
   ]
  },
  {
   "cell_type": "code",
   "execution_count": 302,
   "metadata": {},
   "outputs": [],
   "source": [
    "from sklearn.neighbors import KNeighborsClassifier"
   ]
  },
  {
   "cell_type": "code",
   "execution_count": 328,
   "metadata": {},
   "outputs": [],
   "source": [
    "knn = KNeighborsClassifier(n_neighbors=20)"
   ]
  },
  {
   "cell_type": "code",
   "execution_count": 329,
   "metadata": {},
   "outputs": [
    {
     "data": {
      "text/plain": [
       "KNeighborsClassifier(n_neighbors=20)"
      ]
     },
     "execution_count": 329,
     "metadata": {},
     "output_type": "execute_result"
    }
   ],
   "source": [
    "knn.fit(X_train,y_train)"
   ]
  },
  {
   "cell_type": "code",
   "execution_count": 330,
   "metadata": {},
   "outputs": [],
   "source": [
    "predict_knn = knn.predict(X_test)"
   ]
  },
  {
   "cell_type": "markdown",
   "metadata": {},
   "source": [
    "    Accuracy test for KNN"
   ]
  },
  {
   "cell_type": "code",
   "execution_count": 331,
   "metadata": {},
   "outputs": [
    {
     "name": "stdout",
     "output_type": "stream",
     "text": [
      "0.8225469728601252\n"
     ]
    }
   ],
   "source": [
    "print(accuracy_score(y_test,predict_knn))"
   ]
  },
  {
   "cell_type": "code",
   "execution_count": 332,
   "metadata": {},
   "outputs": [
    {
     "name": "stdout",
     "output_type": "stream",
     "text": [
      "[[671  72]\n",
      " [ 98 117]]\n"
     ]
    }
   ],
   "source": [
    "print(confusion_matrix(y_test,predict_knn))"
   ]
  },
  {
   "cell_type": "code",
   "execution_count": 333,
   "metadata": {},
   "outputs": [
    {
     "name": "stdout",
     "output_type": "stream",
     "text": [
      "              precision    recall  f1-score   support\n",
      "\n",
      "       <=50K       0.87      0.90      0.89       743\n",
      "        >50K       0.62      0.54      0.58       215\n",
      "\n",
      "    accuracy                           0.82       958\n",
      "   macro avg       0.75      0.72      0.73       958\n",
      "weighted avg       0.82      0.82      0.82       958\n",
      "\n"
     ]
    }
   ],
   "source": [
    "print(classification_report(y_test,predict_knn))"
   ]
  },
  {
   "cell_type": "markdown",
   "metadata": {},
   "source": [
    "Conclusion"
   ]
  },
  {
   "cell_type": "markdown",
   "metadata": {},
   "source": [
    "Accuracy of Logistic model is -    0.8298538622129437"
   ]
  },
  {
   "cell_type": "markdown",
   "metadata": {},
   "source": [
    "Accuracy of Decision Tree is -       0.7943632567849687"
   ]
  },
  {
   "cell_type": "markdown",
   "metadata": {},
   "source": [
    "Accuracy of Random Forest is - 0.8308977035490606 (same before and after tuning)"
   ]
  },
  {
   "cell_type": "markdown",
   "metadata": {},
   "source": [
    "Accuracy of KNN is - 0.8225469728601252"
   ]
  },
  {
   "cell_type": "code",
   "execution_count": null,
   "metadata": {},
   "outputs": [],
   "source": []
  }
 ],
 "metadata": {
  "kernelspec": {
   "display_name": "Python 3",
   "language": "python",
   "name": "python3"
  },
  "language_info": {
   "codemirror_mode": {
    "name": "ipython",
    "version": 3
   },
   "file_extension": ".py",
   "mimetype": "text/x-python",
   "name": "python",
   "nbconvert_exporter": "python",
   "pygments_lexer": "ipython3",
   "version": "3.8.4"
  }
 },
 "nbformat": 4,
 "nbformat_minor": 4
}
